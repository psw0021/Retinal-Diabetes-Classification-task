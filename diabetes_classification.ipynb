{
  "cells": [
    {
      "cell_type": "code",
      "execution_count": 1,
      "metadata": {
        "colab": {
          "base_uri": "https://localhost:8080/"
        },
        "id": "PbwD8v4uCMM7",
        "outputId": "7cb0a1ca-ecc8-4fa8-a8ed-124f0dc6c9ee"
      },
      "outputs": [
        {
          "name": "stdout",
          "output_type": "stream",
          "text": [
            "Requirement already satisfied: einops in c:\\users\\shpar\\appdata\\local\\programs\\python\\python39\\lib\\site-packages (0.6.0)\n",
            "Note: you may need to restart the kernel to use updated packages.\n"
          ]
        },
        {
          "name": "stderr",
          "output_type": "stream",
          "text": [
            "WARNING: You are using pip version 21.2.4; however, version 23.0 is available.\n",
            "You should consider upgrading via the 'c:\\Users\\shpar\\AppData\\Local\\Programs\\Python\\Python39\\python.exe -m pip install --upgrade pip' command.\n"
          ]
        }
      ],
      "source": [
        "pip install einops"
      ]
    },
    {
      "cell_type": "code",
      "execution_count": 2,
      "metadata": {
        "colab": {
          "base_uri": "https://localhost:8080/"
        },
        "id": "m-7SC3Cflzaz",
        "outputId": "f40afb85-9922-4103-a486-e5710c85cfdb"
      },
      "outputs": [
        {
          "name": "stdout",
          "output_type": "stream",
          "text": [
            "Requirement already satisfied: pytorch_warmup in c:\\users\\shpar\\appdata\\local\\programs\\python\\python39\\lib\\site-packages (0.1.1)\n",
            "Requirement already satisfied: torch>=1.1 in c:\\users\\shpar\\appdata\\local\\programs\\python\\python39\\lib\\site-packages (from pytorch_warmup) (1.13.1+cu116)\n",
            "Requirement already satisfied: typing-extensions in c:\\users\\shpar\\appdata\\local\\programs\\python\\python39\\lib\\site-packages (from torch>=1.1->pytorch_warmup) (4.4.0)\n",
            "Note: you may need to restart the kernel to use updated packages.\n"
          ]
        },
        {
          "name": "stderr",
          "output_type": "stream",
          "text": [
            "WARNING: You are using pip version 21.2.4; however, version 23.0 is available.\n",
            "You should consider upgrading via the 'c:\\Users\\shpar\\AppData\\Local\\Programs\\Python\\Python39\\python.exe -m pip install --upgrade pip' command.\n"
          ]
        }
      ],
      "source": [
        "pip install -U pytorch_warmup"
      ]
    },
    {
      "cell_type": "code",
      "execution_count": 3,
      "metadata": {
        "id": "KQuHXEId3we0"
      },
      "outputs": [
        {
          "name": "stderr",
          "output_type": "stream",
          "text": [
            "c:\\Users\\shpar\\AppData\\Local\\Programs\\Python\\Python39\\lib\\site-packages\\tqdm\\auto.py:22: TqdmWarning: IProgress not found. Please update jupyter and ipywidgets. See https://ipywidgets.readthedocs.io/en/stable/user_install.html\n",
            "  from .autonotebook import tqdm as notebook_tqdm\n"
          ]
        }
      ],
      "source": [
        "# Import necessary modules and libraries\n",
        "\n",
        "import torch\n",
        "import cv2\n",
        "import numpy as np\n",
        "import sys, os\n",
        "\n",
        "import torch.nn as nn\n",
        "import torch.optim as optim\n",
        "import torch.nn.functional as F\n",
        "import torchvision.transforms as transforms\n",
        "import matplotlib.pyplot as plt\n",
        "import torchvision.datasets as datasets\n",
        "import pytorch_warmup as warmup\n",
        "from skimage import io\n",
        "from einops import rearrange, repeat\n",
        "from einops.layers.torch import Rearrange, Reduce\n",
        "from tqdm import tqdm\n",
        "\n",
        "from torch.utils.data import Dataset, DataLoader\n",
        "import pandas as pd\n"
      ]
    },
    {
      "cell_type": "code",
      "execution_count": 4,
      "metadata": {
        "colab": {
          "base_uri": "https://localhost:8080/"
        },
        "id": "TNWVXABw4_7t",
        "outputId": "396fb5c6-bcef-4a83-ec10-82d9d5c52e2b"
      },
      "outputs": [
        {
          "name": "stdout",
          "output_type": "stream",
          "text": [
            "cuda\n"
          ]
        }
      ],
      "source": [
        "# Set the device\n",
        "if torch.cuda.is_available():\n",
        "  device = torch.device('cuda')\n",
        "\n",
        "else:\n",
        "  device = torch.device('cpu')\n",
        "\n",
        "print(device)"
      ]
    },
    {
      "cell_type": "markdown",
      "metadata": {
        "id": "yOI7yt9CBrkk"
      },
      "source": [
        "# !! Custom dataset class defined"
      ]
    },
    {
      "cell_type": "code",
      "execution_count": 5,
      "metadata": {
        "id": "_VrwL8czW7CF"
      },
      "outputs": [],
      "source": [
        "# Make a custom dataset to read csv file\n",
        "class DiabetesDataset(Dataset):\n",
        "  def __init__(self, csv_file, root_dir, transform=None):\n",
        "    self.dataset_list = pd.read_csv(csv_file)\n",
        "    self.root_dir = root_dir\n",
        "    self.transform = transform\n",
        "  def __len__(self):\n",
        "    return len(self.dataset_list)\n",
        "  def __getitem__(self, index):\n",
        "    name_of_sample = \"level\" + str(self.dataset_list.iloc[index, 1])\n",
        "    intermediate_path = os.path.join(self.root_dir, name_of_sample)\n",
        "    image_path = os.path.join(intermediate_path, self.dataset_list.iloc[index, 0])\n",
        "    image_path = image_path + \".jpeg\"\n",
        "    print(image_path)\n",
        "    return_image = io.imread(image_path)\n",
        "\n",
        "    y_label = torch.tensor(int(self.dataset_list.iloc[index, 1]))\n",
        "\n",
        "    if self.transform != None:\n",
        "      return_image = self.transform(return_image)\n",
        "\n",
        "    return (return_image, y_label)\n",
        "\n",
        "    "
      ]
    },
    {
      "cell_type": "code",
      "execution_count": 5,
      "metadata": {
        "colab": {
          "base_uri": "https://localhost:8080/"
        },
        "id": "zOLCJqlfz-Ht",
        "outputId": "071e0f81-e9a3-49c5-beef-4204f3fa433d"
      },
      "outputs": [
        {
          "name": "stdout",
          "output_type": "stream",
          "text": [
            "The length of our train_dataloader would be  799\n",
            "The length of our test_dataloader would be  310\n"
          ]
        }
      ],
      "source": [
        "# load dataset\n",
        "train_path = 'C:/Users/shpar/OneDrive/바탕 화면/ParkSangwoo_project/diabetes/TRAIN'\n",
        "test_path = 'C:/Users/shpar/OneDrive/바탕 화면/ParkSangwoo_project/diabetes/TEST'\n",
        "\n",
        "data_transform = transforms.Compose([transforms.ToTensor(),\n",
        "                                     transforms.Resize((384, 384)),\n",
        "                                     transforms.Normalize((0.5, 0.5, 0.5), (0.5, 0.5, 0.5)), \n",
        "                                     transforms.RandomHorizontalFlip(p = 0.3), \n",
        "                                     transforms.RandomVerticalFlip(p = 0.5)])\n",
        "\n",
        "\n",
        "data_transform_test = transforms.Compose([transforms.ToTensor(),\n",
        "                                          transforms.Resize((384, 384)),\n",
        "                                          transforms.Normalize((0.5, 0.5, 0.5), (0.5, 0.5, 0.5))])\n",
        "\n",
        "#train = DiabetesDataset(csv_path, train_path, transform = data_transform)\n",
        "\n",
        "train_dataset = datasets.ImageFolder(root=train_path, transform = data_transform)\n",
        "\n",
        "train_dataloader = DataLoader(dataset=train_dataset, batch_size = 32, shuffle = True)\n",
        "\n",
        "test_dataset = datasets.ImageFolder(root=test_path, \n",
        "                                    transform = data_transform_test)\n",
        "\n",
        "test_dataloader = DataLoader(dataset=test_dataset, batch_size = 32, shuffle = False)\n",
        "\n",
        "print(\"The length of our train_dataloader would be {:4d}\".format(len(train_dataloader)))\n",
        "print(\"The length of our test_dataloader would be {:4d}\".format(len(test_dataloader)))"
      ]
    },
    {
      "cell_type": "markdown",
      "metadata": {
        "id": "egtXMq7dQFg8"
      },
      "source": [
        "# Define Hyper Parameters"
      ]
    },
    {
      "cell_type": "code",
      "execution_count": 6,
      "metadata": {
        "id": "QXY87glQQJLF"
      },
      "outputs": [],
      "source": [
        "image_size = 384\n",
        "patch_size = 16\n",
        "embedded_dimension = 256\n",
        "in_channels = 3\n",
        "number_of_heads = 2\n",
        "intermediate_nodes = 40\n",
        "number_of_class = 5\n",
        "encoder_blocks = 12\n",
        "\n",
        "# training parameters\n",
        "batch_size = 32\n",
        "num_epochs = 100\n",
        "initial_learning_rate = 1e-4"
      ]
    },
    {
      "cell_type": "markdown",
      "metadata": {
        "id": "7vbxtRK3Brkm"
      },
      "source": [
        "# Implementation of creating token for each diabetes data to be input into the encoder"
      ]
    },
    {
      "cell_type": "code",
      "execution_count": null,
      "metadata": {
        "id": "rXep3cjpdIS4"
      },
      "outputs": [],
      "source": [
        "# First of all start with token's positional embedding\n",
        "class TokenEmbed(nn.Module):\n",
        "  \"\"\"\n",
        "  This code will try to generate the tokens of images as patches by using CNN to make some part of\n",
        "  each image as token. The dimension of each input image will be in the form of (batch size, channels, width, height)\n",
        "  After CNN has been used , it will result in (batch size, channels=embedded_dimension, w = width/patch_size, h = height/patch_size)\n",
        "  Thus, there will be w ** 2 number of tokens ought to be used (we reshape them). \n",
        "  Also, since class token needs to be added, use cls_token to add 1 more token\n",
        "  to each batch while independent positional encoding is added after embedding each token. \n",
        "  \"\"\"\n",
        "  def __init__(self, image_size = image_size, patch_size = patch_size, \n",
        "               in_channels = in_channels, embedded_dimension = embedded_dimension):\n",
        "    super().__init__()\n",
        "    self.image_size = image_size\n",
        "    self.patch_size = patch_size\n",
        "    self.n_patches = (image_size // patch_size) ** 2\n",
        "\n",
        "    self.create_patches = nn.Conv2d(in_channels, embedded_dimension, \n",
        "                                  kernel_size = patch_size, stride = patch_size)\n",
        "    \n",
        "    \"\"\"\n",
        "    Have to understand the functionality of how this mechanism works\n",
        "    \"\"\"\n",
        "    self.cls_token = nn.Parameter(torch.randn(1, 1, embedded_dimension))\n",
        "\n",
        "    # Positional Encoding of each tokens (cos, sin)\n",
        "    self.positions = nn.Parameter(torch.randn((self.n_patches + 1), embedded_dimension))\n",
        "    \n",
        "  def forward(self, inp):\n",
        "    inp = self.create_patches(inp) # current shape: (batch size, embedded_dimension, num_batch_width, num_batch_height)\n",
        "\n",
        "    inp = inp.reshape(inp.shape[0], inp.shape[1], -1)\n",
        "    inp = inp.permute(0, 2, 1) # current shape: (batch size, embedded dimension, number of patches)\n",
        "\n",
        "    number_of_batches = inp.shape[0]\n",
        "\n",
        "    cls_token = repeat(self.cls_token, '() n e -> b n e', b = number_of_batches) # shape: (batch, 1, embedded_dimension)\n",
        "    final_output = torch.cat([cls_token, inp], dim = 1)\n",
        "    final_output = final_output + self.positions\n",
        "\n",
        "    return final_output"
      ]
    },
    {
      "cell_type": "markdown",
      "metadata": {
        "id": "a-lI_tgBQ4EM"
      },
      "source": [
        "# Check to see whether patch embedding was implemented properly"
      ]
    },
    {
      "cell_type": "code",
      "execution_count": null,
      "metadata": {
        "colab": {
          "base_uri": "https://localhost:8080/"
        },
        "id": "uR_q-Zr4Brkn",
        "outputId": "e68f52f6-14b6-400e-a079-505e175545be"
      },
      "outputs": [
        {
          "name": "stdout",
          "output_type": "stream",
          "text": [
            "(batch_size, number of patches, embedded size:  torch.Size([64, 197, 256])\n"
          ]
        }
      ],
      "source": [
        "# Check whether embedding proess is processed correctly\n",
        "x = torch.randn(64, 3, 224, 224).to(device)\n",
        "patch_embedding = TokenEmbed().to(device)\n",
        "patch_output = patch_embedding(x)\n",
        "print('(batch_size, number of patches, embedded size: ', patch_output.shape)"
      ]
    },
    {
      "cell_type": "markdown",
      "metadata": {
        "id": "AUA17R4-Brkn"
      },
      "source": [
        "# Implementation of self- multi head attention"
      ]
    },
    {
      "cell_type": "code",
      "execution_count": null,
      "metadata": {
        "id": "hKl4gC4HdNzy"
      },
      "outputs": [],
      "source": [
        "# Multi-Head self attention\n",
        "class MultiHeadAttention(nn.Module):\n",
        "  \"\"\"\n",
        "  In this class, we are going to implement the attention functionality by dividing \n",
        "  our input data into each query, key, and value. The query is going to be the standard\n",
        "  image token that we are going to compare,(comparing with keys) and put them into the\n",
        "  softmax function along with scaling values to obtain energy value. Each energy value for all\n",
        "  tokens in keys will be then be multiplied with values to obtain attention scores. Thus,\n",
        "  allowing the model to learn the most related token regarding a certain query.\n",
        "  \"\"\"\n",
        "  def __init__(self, embedded_size = embedded_dimension, number_of_heads = number_of_heads):\n",
        "    super().__init__()\n",
        "    self.embedded_size = embedded_size\n",
        "    self.number_of_heads = number_of_heads\n",
        "    self.query = nn.Linear(embedded_size, embedded_size)\n",
        "    self.key = nn.Linear(embedded_size, embedded_size)\n",
        "    self.value = nn.Linear(embedded_size, embedded_size)\n",
        "    self.final_linear_layer = nn.Linear(embedded_size, embedded_size)\n",
        "\n",
        "  def forward(self, x):\n",
        "    query = self.query(x)\n",
        "    query = query.reshape(query.shape[0], self.number_of_heads, query.shape[1], -1)\n",
        "    \n",
        "    key = self.key(x)\n",
        "    key = key.reshape(key.shape[0], self.number_of_heads, key.shape[1], -1)\n",
        "\n",
        "\n",
        "    value = self.value(x)\n",
        "    value = value.reshape(value.shape[0], self.number_of_heads, value.shape[1], -1)\n",
        "\n",
        "    energy_map = torch.einsum('bhqd, bhkd -> bhqk', [query, key])\n",
        "\n",
        "    scale_factor = self.embedded_size ** (-1/2)\n",
        "\n",
        "    energy_map = energy_map * scale_factor\n",
        "\n",
        "    attention_score = F.softmax(energy_map, dim = -1)\n",
        "    \n",
        "    final_attention_score = torch.einsum('bhav, bhvd -> bhad', [attention_score, value])\n",
        "    output = final_attention_score.reshape(final_attention_score.shape[0], final_attention_score.shape[2], -1)\n",
        "    \n",
        "    output = self.final_linear_layer(output)\n",
        "\n",
        "    return output\n",
        "    "
      ]
    },
    {
      "cell_type": "markdown",
      "metadata": {
        "id": "IPA62niDRHh-"
      },
      "source": [
        "# check to see whether multi-head attention class was implemented properly"
      ]
    },
    {
      "cell_type": "code",
      "execution_count": null,
      "metadata": {
        "colab": {
          "base_uri": "https://localhost:8080/",
          "height": 248
        },
        "id": "wxHu7eCaI-Fl",
        "outputId": "cbe8fc3a-4f82-4c16-f3dc-5b96871b89cb"
      },
      "outputs": [
        {
          "ename": "NameError",
          "evalue": "ignored",
          "output_type": "error",
          "traceback": [
            "\u001b[0;31m---------------------------------------------------------------------------\u001b[0m",
            "\u001b[0;31mNameError\u001b[0m                                 Traceback (most recent call last)",
            "\u001b[0;32m<ipython-input-8-e82beb81db46>\u001b[0m in \u001b[0;36m<module>\u001b[0;34m\u001b[0m\n\u001b[1;32m      3\u001b[0m \u001b[0mpatch_embedding\u001b[0m \u001b[0;34m=\u001b[0m \u001b[0mTokenEmbed\u001b[0m\u001b[0;34m(\u001b[0m\u001b[0;34m)\u001b[0m\u001b[0;34m.\u001b[0m\u001b[0mto\u001b[0m\u001b[0;34m(\u001b[0m\u001b[0mdevice\u001b[0m\u001b[0;34m)\u001b[0m\u001b[0;34m\u001b[0m\u001b[0;34m\u001b[0m\u001b[0m\n\u001b[1;32m      4\u001b[0m \u001b[0mintermediate_output\u001b[0m \u001b[0;34m=\u001b[0m \u001b[0mpatch_embedding\u001b[0m\u001b[0;34m(\u001b[0m\u001b[0mx\u001b[0m\u001b[0;34m)\u001b[0m\u001b[0;34m\u001b[0m\u001b[0;34m\u001b[0m\u001b[0m\n\u001b[0;32m----> 5\u001b[0;31m \u001b[0mself_attention\u001b[0m \u001b[0;34m=\u001b[0m \u001b[0mMultiHeadAttention\u001b[0m\u001b[0;34m(\u001b[0m\u001b[0;34m)\u001b[0m\u001b[0;34m.\u001b[0m\u001b[0mto\u001b[0m\u001b[0;34m(\u001b[0m\u001b[0mdevice\u001b[0m\u001b[0;34m)\u001b[0m\u001b[0;34m\u001b[0m\u001b[0;34m\u001b[0m\u001b[0m\n\u001b[0m\u001b[1;32m      6\u001b[0m \u001b[0moutput\u001b[0m \u001b[0;34m=\u001b[0m \u001b[0mself_attention\u001b[0m\u001b[0;34m(\u001b[0m\u001b[0mintermediate_output\u001b[0m\u001b[0;34m)\u001b[0m\u001b[0;34m\u001b[0m\u001b[0;34m\u001b[0m\u001b[0m\n\u001b[1;32m      7\u001b[0m \u001b[0;34m\u001b[0m\u001b[0m\n",
            "\u001b[0;31mNameError\u001b[0m: name 'MultiHeadAttention' is not defined"
          ]
        }
      ],
      "source": [
        "# check to see whether our multi-attention code performs properly\n",
        "x = torch.randn(64, 3, 224, 224).to(device)\n",
        "patch_embedding = TokenEmbed().to(device)\n",
        "intermediate_output = patch_embedding(x)\n",
        "self_attention = MultiHeadAttention().to(device)\n",
        "output = self_attention(intermediate_output)\n",
        "\n",
        "print(output.shape)"
      ]
    },
    {
      "cell_type": "markdown",
      "metadata": {
        "id": "kj63wYTwBrkn"
      },
      "source": [
        "# Implementation of multi layer perceptron class"
      ]
    },
    {
      "cell_type": "code",
      "execution_count": null,
      "metadata": {
        "id": "d8iqIcoG08cO"
      },
      "outputs": [],
      "source": [
        "# Implement Multi-layer perceptron layer\n",
        "class MLP(nn.Module):\n",
        "  \"\"\"\n",
        "  This class is a feed-forward network that consists of multi-layer perceptron\n",
        "  \"\"\"\n",
        "  def __init__(self, input_features, intermediate_nodes, output_features):\n",
        "      super().__init__()\n",
        "      self.perceptron = nn.Sequential(nn.Linear(input_features, intermediate_nodes), nn.GELU(), \n",
        "      nn.Dropout(0.2),\n",
        "      nn.Linear(intermediate_nodes, output_features), nn.Dropout(0.2))\n",
        "  def forward(self, inp):\n",
        "      inp = self.perceptron(inp)\n",
        "\n",
        "      return inp"
      ]
    },
    {
      "cell_type": "markdown",
      "metadata": {
        "id": "IBTvSg-0Brko"
      },
      "source": [
        "# Combine the classes that we implemented into the encoder part of the model"
      ]
    },
    {
      "cell_type": "code",
      "execution_count": null,
      "metadata": {
        "id": "i9cykhxtBrko"
      },
      "outputs": [],
      "source": [
        "class Encoder_Block(nn.Module):\n",
        "    def __init__(self, embedded_size = embedded_dimension, number_of_heads = number_of_heads, intermediate_nodes = intermediate_nodes):\n",
        "        super().__init__()\n",
        "        self.first_layer = nn.Sequential(nn.LayerNorm(embedded_size, eps=1e-6), \n",
        "        MultiHeadAttention(embedded_size, number_of_heads))\n",
        "        \n",
        "        self.second_layer = nn.Sequential(nn.LayerNorm(embedded_size, eps=1e-6), \n",
        "        MLP(embedded_size, intermediate_nodes, embedded_size))\n",
        "    \n",
        "    def forward(self, x):\n",
        "        \"\"\"\n",
        "        This forward function needs to be checked whether I have implemented \n",
        "        the residual learning in each encoder box correctly\n",
        "        \"\"\"\n",
        "        output = self.first_layer(x)\n",
        "        output = x + output \n",
        "        second_output = self.second_layer(output)\n",
        "        final_output = second_output + output\n",
        "\n",
        "        return final_output\n"
      ]
    },
    {
      "cell_type": "markdown",
      "metadata": {
        "id": "UMaGtro3Rok_"
      },
      "source": [
        "# check to see whether encoder block was implemented properly"
      ]
    },
    {
      "cell_type": "code",
      "execution_count": null,
      "metadata": {
        "colab": {
          "base_uri": "https://localhost:8080/"
        },
        "id": "cq7r5cinNX28",
        "outputId": "1c55355e-a3c6-4e12-a37a-f46bac06b858"
      },
      "outputs": [
        {
          "name": "stdout",
          "output_type": "stream",
          "text": [
            "torch.Size([64, 197, 256])\n"
          ]
        }
      ],
      "source": [
        "# Check each encoder block to see whether we have implemented the code properly\n",
        "x = torch.randn((64, 3, 224, 224)).to(device)\n",
        "patch_embedding = TokenEmbed().to(device)\n",
        "embedding_output = patch_embedding(x)\n",
        "\n",
        "Block = Encoder_Block().to(device)\n",
        "Block_output = Block(embedding_output)\n",
        "\n",
        "print(Block_output.shape)"
      ]
    },
    {
      "cell_type": "markdown",
      "metadata": {
        "id": "iqK869zaBrko"
      },
      "source": [
        "# CREATE Full Vision Transformer class"
      ]
    },
    {
      "cell_type": "code",
      "execution_count": null,
      "metadata": {
        "id": "y1bUFDf-Brko"
      },
      "outputs": [],
      "source": [
        "class Vision_Transformer(nn.Module):\n",
        "  \"\"\"\n",
        "  This code is a full implementation of vision transformer.\n",
        "\n",
        "  Step1: Divide each image into tokens(patches) with additional class token\n",
        "  inserted at the very first position.\n",
        "\n",
        "  Step2: Add positional encoding to each token(patches) to acquire some inductive\n",
        "  bias, or to get locational information\n",
        "\n",
        "  Step3: Pass each token set(for all embedding dimensions) through the encoder block,\n",
        "  (multi-head attention combined with residual learning and feed forward network)\n",
        "\n",
        "  Step4: Pass through multiple vit-encoder blocks\n",
        "\n",
        "  Step5: choose class-classifiation-token to feed it into the linear layer perceptron\n",
        "  to compress it into 5 classes.\n",
        "  \"\"\"\n",
        "  def __init__(self, embedded_size = embedded_dimension, number_of_heads = number_of_heads, intermediate_nodes = intermediate_nodes,\n",
        "    image_size=image_size, patch_size = patch_size, in_channels = in_channels, number_of_class = number_of_class, number_of_encoders = encoder_blocks):\n",
        "      super().__init__()\n",
        "      self.Create_Tokens = TokenEmbed()\n",
        "\n",
        "      list_of_blocks = []\n",
        "      for num in range(0, number_of_encoders):\n",
        "        b = Encoder_Block()\n",
        "        list_of_blocks.append(b)\n",
        "        \n",
        "      self.Total_Block = nn.ModuleList(list_of_blocks)\n",
        "     \n",
        "      self.normalization = nn.LayerNorm(embedded_size, eps=1e-6)\n",
        "      self.final = nn.Linear(embedded_size, number_of_class)\n",
        "  def forward(self, x):\n",
        "      result = self.Create_Tokens(x)\n",
        "        \n",
        "      for Encoder_Block in self.Total_Block:\n",
        "            result = Encoder_Block(result)\n",
        "\n",
        "      result = self.normalization(result)\n",
        "\n",
        "      wanted_token = result[:, 0]\n",
        "\n",
        "      final_result = self.final(wanted_token)\n",
        "\n",
        "      return final_result\n"
      ]
    },
    {
      "cell_type": "markdown",
      "metadata": {
        "id": "A0-iCTEwVpHK"
      },
      "source": [
        "# Check to see whether our vision transformer model has been implemented properly."
      ]
    },
    {
      "cell_type": "code",
      "execution_count": null,
      "metadata": {
        "colab": {
          "base_uri": "https://localhost:8080/"
        },
        "id": "U0xUfHGcVvql",
        "outputId": "e20dccf4-50b9-4df2-d809-f5502dbb5295"
      },
      "outputs": [
        {
          "name": "stdout",
          "output_type": "stream",
          "text": [
            "torch.Size([64, 5])\n"
          ]
        }
      ],
      "source": [
        "x = torch.randn((64, 3, 224, 224)).to(device)\n",
        "vision_transformer = Vision_Transformer().to(device)\n",
        "output = vision_transformer(x)\n",
        "print(output.shape)"
      ]
    },
    {
      "cell_type": "markdown",
      "metadata": {
        "id": "47S5Hbf-bqi0"
      },
      "source": [
        "# Get started with Training our model"
      ]
    },
    {
      "cell_type": "code",
      "execution_count": 7,
      "metadata": {
        "colab": {
          "base_uri": "https://localhost:8080/"
        },
        "id": "7hLpDVThzzu-",
        "outputId": "79c624e6-dd38-4b60-c4f7-a39b6bc6fb35"
      },
      "outputs": [
        {
          "name": "stdout",
          "output_type": "stream",
          "text": [
            "Requirement already satisfied: pytorch_pretrained_vit in c:\\users\\shpar\\appdata\\local\\programs\\python\\python39\\lib\\site-packages (0.0.7)\n",
            "Requirement already satisfied: torch in c:\\users\\shpar\\appdata\\local\\programs\\python\\python39\\lib\\site-packages (from pytorch_pretrained_vit) (1.13.1+cu116)\n",
            "Requirement already satisfied: typing-extensions in c:\\users\\shpar\\appdata\\local\\programs\\python\\python39\\lib\\site-packages (from torch->pytorch_pretrained_vit) (4.4.0)\n",
            "Note: you may need to restart the kernel to use updated packages.\n"
          ]
        },
        {
          "name": "stderr",
          "output_type": "stream",
          "text": [
            "WARNING: You are using pip version 21.2.4; however, version 23.0 is available.\n",
            "You should consider upgrading via the 'c:\\Users\\shpar\\AppData\\Local\\Programs\\Python\\Python39\\python.exe -m pip install --upgrade pip' command.\n"
          ]
        }
      ],
      "source": [
        "pip install pytorch_pretrained_vit"
      ]
    },
    {
      "cell_type": "code",
      "execution_count": 8,
      "metadata": {
        "colab": {
          "base_uri": "https://localhost:8080/",
          "height": 1000,
          "referenced_widgets": [
            "21c60402a52c408cbc6bacc8d374d425",
            "c7dc6cddc7ab4014bcdde638717a1c51",
            "a79f4174d04642379cb7303ca1150d57",
            "c912f377f2d24e11acf8e53a7f798e5a",
            "03e7d8c1bb7442e0affd42d4f998c1f1",
            "23e466d2d4a04fdc9ec8a40de588ce34",
            "076bc13ad2e0408c81904bd005d22cf0",
            "f39b3c146bdd490fb3b79860d06c98da",
            "22bd520a43aa4208b5656b0125798306",
            "d22d837de98a4fbb832c35ea24889f06",
            "01266ce059f544389ac82d55154a6b2a"
          ]
        },
        "id": "6-iKke8zccZ9",
        "outputId": "df7d2427-7dc3-4c52-b6d0-f6113df21528"
      },
      "outputs": [
        {
          "name": "stdout",
          "output_type": "stream",
          "text": [
            "Loaded pretrained weights.\n"
          ]
        }
      ],
      "source": [
        "# Define model, loss function etc\n",
        "#model = Vision_Transformer().to(device)\n",
        "from pytorch_pretrained_vit import ViT\n",
        "model = ViT('B_16_imagenet1k', pretrained = True)\n",
        "loss_function = nn.CrossEntropyLoss()\n",
        "optimizer = optim.Adam(model.parameters(), lr = initial_learning_rate, weight_decay = 0.1)\n",
        "warmup_scheduler = warmup.UntunedLinearWarmup(optimizer)\n",
        "learning_rate_scheduler = optim.lr_scheduler.StepLR(optimizer, step_size = 3, gamma = 0.1)"
      ]
    },
    {
      "cell_type": "markdown",
      "metadata": {
        "id": "5-LtxOxQfZEK"
      },
      "source": [
        "# this version would be without transfer learning and fine-tuning"
      ]
    },
    {
      "cell_type": "code",
      "execution_count": 21,
      "metadata": {
        "colab": {
          "base_uri": "https://localhost:8080/",
          "height": 455
        },
        "id": "JPfzT4l4epk5",
        "outputId": "83bae584-69c7-4758-de4a-0941a44aa2b0"
      },
      "outputs": [
        {
          "name": "stderr",
          "output_type": "stream",
          "text": [
            "traning:   0%|          | 0/400 [00:00<?, ?it/s]\n",
            "  0%|          | 0/100 [00:00<?, ?it/s]\n"
          ]
        },
        {
          "ename": "RuntimeError",
          "evalue": "Input type (torch.cuda.FloatTensor) and weight type (torch.FloatTensor) should be the same",
          "output_type": "error",
          "traceback": [
            "\u001b[1;31m---------------------------------------------------------------------------\u001b[0m",
            "\u001b[1;31mRuntimeError\u001b[0m                              Traceback (most recent call last)",
            "Cell \u001b[1;32mIn[21], line 18\u001b[0m\n\u001b[0;32m     15\u001b[0m \u001b[39mfor\u001b[39;00m inputs, labels \u001b[39min\u001b[39;00m tqdm(train_dataloader, desc\u001b[39m=\u001b[39m \u001b[39m\"\u001b[39m\u001b[39mtraning\u001b[39m\u001b[39m\"\u001b[39m):\n\u001b[0;32m     16\u001b[0m   \u001b[39minput\u001b[39m, label \u001b[39m=\u001b[39m inputs\u001b[39m.\u001b[39mto(device), labels\u001b[39m.\u001b[39mto(device)\n\u001b[1;32m---> 18\u001b[0m   vision_transformer_output \u001b[39m=\u001b[39m model(\u001b[39minput\u001b[39;49m)\n\u001b[0;32m     19\u001b[0m   cost_function \u001b[39m=\u001b[39m loss_function(vision_transformer_output, label)\n\u001b[0;32m     21\u001b[0m   \u001b[39m# reset the gardient (가중치 초기화)\u001b[39;00m\n",
            "File \u001b[1;32mc:\\Users\\shpar\\AppData\\Local\\Programs\\Python\\Python39\\lib\\site-packages\\torch\\nn\\modules\\module.py:1194\u001b[0m, in \u001b[0;36mModule._call_impl\u001b[1;34m(self, *input, **kwargs)\u001b[0m\n\u001b[0;32m   1190\u001b[0m \u001b[39m# If we don't have any hooks, we want to skip the rest of the logic in\u001b[39;00m\n\u001b[0;32m   1191\u001b[0m \u001b[39m# this function, and just call forward.\u001b[39;00m\n\u001b[0;32m   1192\u001b[0m \u001b[39mif\u001b[39;00m \u001b[39mnot\u001b[39;00m (\u001b[39mself\u001b[39m\u001b[39m.\u001b[39m_backward_hooks \u001b[39mor\u001b[39;00m \u001b[39mself\u001b[39m\u001b[39m.\u001b[39m_forward_hooks \u001b[39mor\u001b[39;00m \u001b[39mself\u001b[39m\u001b[39m.\u001b[39m_forward_pre_hooks \u001b[39mor\u001b[39;00m _global_backward_hooks\n\u001b[0;32m   1193\u001b[0m         \u001b[39mor\u001b[39;00m _global_forward_hooks \u001b[39mor\u001b[39;00m _global_forward_pre_hooks):\n\u001b[1;32m-> 1194\u001b[0m     \u001b[39mreturn\u001b[39;00m forward_call(\u001b[39m*\u001b[39m\u001b[39minput\u001b[39m, \u001b[39m*\u001b[39m\u001b[39m*\u001b[39mkwargs)\n\u001b[0;32m   1195\u001b[0m \u001b[39m# Do not call functions when jit is used\u001b[39;00m\n\u001b[0;32m   1196\u001b[0m full_backward_hooks, non_full_backward_hooks \u001b[39m=\u001b[39m [], []\n",
            "File \u001b[1;32mc:\\Users\\shpar\\AppData\\Local\\Programs\\Python\\Python39\\lib\\site-packages\\pytorch_pretrained_vit\\model.py:159\u001b[0m, in \u001b[0;36mViT.forward\u001b[1;34m(self, x)\u001b[0m\n\u001b[0;32m    153\u001b[0m \u001b[39m\u001b[39m\u001b[39m\"\"\"Breaks image into patches, applies transformer, applies MLP head.\u001b[39;00m\n\u001b[0;32m    154\u001b[0m \n\u001b[0;32m    155\u001b[0m \u001b[39mArgs:\u001b[39;00m\n\u001b[0;32m    156\u001b[0m \u001b[39m    x (tensor): `b,c,fh,fw`\u001b[39;00m\n\u001b[0;32m    157\u001b[0m \u001b[39m\"\"\"\u001b[39;00m\n\u001b[0;32m    158\u001b[0m b, c, fh, fw \u001b[39m=\u001b[39m x\u001b[39m.\u001b[39mshape\n\u001b[1;32m--> 159\u001b[0m x \u001b[39m=\u001b[39m \u001b[39mself\u001b[39;49m\u001b[39m.\u001b[39;49mpatch_embedding(x)  \u001b[39m# b,d,gh,gw\u001b[39;00m\n\u001b[0;32m    160\u001b[0m x \u001b[39m=\u001b[39m x\u001b[39m.\u001b[39mflatten(\u001b[39m2\u001b[39m)\u001b[39m.\u001b[39mtranspose(\u001b[39m1\u001b[39m, \u001b[39m2\u001b[39m)  \u001b[39m# b,gh*gw,d\u001b[39;00m\n\u001b[0;32m    161\u001b[0m \u001b[39mif\u001b[39;00m \u001b[39mhasattr\u001b[39m(\u001b[39mself\u001b[39m, \u001b[39m'\u001b[39m\u001b[39mclass_token\u001b[39m\u001b[39m'\u001b[39m):\n",
            "File \u001b[1;32mc:\\Users\\shpar\\AppData\\Local\\Programs\\Python\\Python39\\lib\\site-packages\\torch\\nn\\modules\\module.py:1194\u001b[0m, in \u001b[0;36mModule._call_impl\u001b[1;34m(self, *input, **kwargs)\u001b[0m\n\u001b[0;32m   1190\u001b[0m \u001b[39m# If we don't have any hooks, we want to skip the rest of the logic in\u001b[39;00m\n\u001b[0;32m   1191\u001b[0m \u001b[39m# this function, and just call forward.\u001b[39;00m\n\u001b[0;32m   1192\u001b[0m \u001b[39mif\u001b[39;00m \u001b[39mnot\u001b[39;00m (\u001b[39mself\u001b[39m\u001b[39m.\u001b[39m_backward_hooks \u001b[39mor\u001b[39;00m \u001b[39mself\u001b[39m\u001b[39m.\u001b[39m_forward_hooks \u001b[39mor\u001b[39;00m \u001b[39mself\u001b[39m\u001b[39m.\u001b[39m_forward_pre_hooks \u001b[39mor\u001b[39;00m _global_backward_hooks\n\u001b[0;32m   1193\u001b[0m         \u001b[39mor\u001b[39;00m _global_forward_hooks \u001b[39mor\u001b[39;00m _global_forward_pre_hooks):\n\u001b[1;32m-> 1194\u001b[0m     \u001b[39mreturn\u001b[39;00m forward_call(\u001b[39m*\u001b[39m\u001b[39minput\u001b[39m, \u001b[39m*\u001b[39m\u001b[39m*\u001b[39mkwargs)\n\u001b[0;32m   1195\u001b[0m \u001b[39m# Do not call functions when jit is used\u001b[39;00m\n\u001b[0;32m   1196\u001b[0m full_backward_hooks, non_full_backward_hooks \u001b[39m=\u001b[39m [], []\n",
            "File \u001b[1;32mc:\\Users\\shpar\\AppData\\Local\\Programs\\Python\\Python39\\lib\\site-packages\\torch\\nn\\modules\\conv.py:463\u001b[0m, in \u001b[0;36mConv2d.forward\u001b[1;34m(self, input)\u001b[0m\n\u001b[0;32m    462\u001b[0m \u001b[39mdef\u001b[39;00m \u001b[39mforward\u001b[39m(\u001b[39mself\u001b[39m, \u001b[39minput\u001b[39m: Tensor) \u001b[39m-\u001b[39m\u001b[39m>\u001b[39m Tensor:\n\u001b[1;32m--> 463\u001b[0m     \u001b[39mreturn\u001b[39;00m \u001b[39mself\u001b[39;49m\u001b[39m.\u001b[39;49m_conv_forward(\u001b[39minput\u001b[39;49m, \u001b[39mself\u001b[39;49m\u001b[39m.\u001b[39;49mweight, \u001b[39mself\u001b[39;49m\u001b[39m.\u001b[39;49mbias)\n",
            "File \u001b[1;32mc:\\Users\\shpar\\AppData\\Local\\Programs\\Python\\Python39\\lib\\site-packages\\torch\\nn\\modules\\conv.py:459\u001b[0m, in \u001b[0;36mConv2d._conv_forward\u001b[1;34m(self, input, weight, bias)\u001b[0m\n\u001b[0;32m    455\u001b[0m \u001b[39mif\u001b[39;00m \u001b[39mself\u001b[39m\u001b[39m.\u001b[39mpadding_mode \u001b[39m!=\u001b[39m \u001b[39m'\u001b[39m\u001b[39mzeros\u001b[39m\u001b[39m'\u001b[39m:\n\u001b[0;32m    456\u001b[0m     \u001b[39mreturn\u001b[39;00m F\u001b[39m.\u001b[39mconv2d(F\u001b[39m.\u001b[39mpad(\u001b[39minput\u001b[39m, \u001b[39mself\u001b[39m\u001b[39m.\u001b[39m_reversed_padding_repeated_twice, mode\u001b[39m=\u001b[39m\u001b[39mself\u001b[39m\u001b[39m.\u001b[39mpadding_mode),\n\u001b[0;32m    457\u001b[0m                     weight, bias, \u001b[39mself\u001b[39m\u001b[39m.\u001b[39mstride,\n\u001b[0;32m    458\u001b[0m                     _pair(\u001b[39m0\u001b[39m), \u001b[39mself\u001b[39m\u001b[39m.\u001b[39mdilation, \u001b[39mself\u001b[39m\u001b[39m.\u001b[39mgroups)\n\u001b[1;32m--> 459\u001b[0m \u001b[39mreturn\u001b[39;00m F\u001b[39m.\u001b[39;49mconv2d(\u001b[39minput\u001b[39;49m, weight, bias, \u001b[39mself\u001b[39;49m\u001b[39m.\u001b[39;49mstride,\n\u001b[0;32m    460\u001b[0m                 \u001b[39mself\u001b[39;49m\u001b[39m.\u001b[39;49mpadding, \u001b[39mself\u001b[39;49m\u001b[39m.\u001b[39;49mdilation, \u001b[39mself\u001b[39;49m\u001b[39m.\u001b[39;49mgroups)\n",
            "\u001b[1;31mRuntimeError\u001b[0m: Input type (torch.cuda.FloatTensor) and weight type (torch.FloatTensor) should be the same"
          ]
        }
      ],
      "source": [
        "list_accuracy_per_epoch_train = []\n",
        "list_loss_per_epoch_train = []\n",
        "\n",
        "list_accuracy_per_epoch_test = []\n",
        "list_loss_per_epoch_test = []\n",
        "\n",
        "number_of_epochs = []\n",
        "\n",
        "for epoch in tqdm(range(num_epochs)):\n",
        "  number_of_epochs.append(epoch)\n",
        "  # start training the model\n",
        "  model.train()\n",
        "  train_loss, test_loss = 0, 0\n",
        "  train_corrects, test_corrects = 0, 0\n",
        "  for inputs, labels in tqdm(train_dataloader, desc= \"traning\"):\n",
        "    input, label = inputs.to(device), labels.to(device)\n",
        "\n",
        "    vision_transformer_output = model(input)\n",
        "    cost_function = loss_function(vision_transformer_output, label)\n",
        "    \n",
        "    # reset the gardient (가중치 초기화)\n",
        "    optimizer.zero_grad()\n",
        "\n",
        "    # process back prpogation\n",
        "    cost_function.backward()\n",
        "\n",
        "    # make the optimizer adjust to the optimal point\n",
        "    optimizer.step()\n",
        "\n",
        "    with warmup_scheduler.dampening():\n",
        "      learning_rate_scheduler.step()\n",
        "\n",
        "    gradient_clipping = torch.nn.utils.clip_grad_norm_(model.parameters(), 1)\n",
        "\n",
        "    _, preds = torch.max(vision_transformer_output, 1)\n",
        "\n",
        "    # Get the total loss\n",
        "    train_loss = train_loss + cost_function.item()\n",
        "\n",
        "    train_corrects = train_corrects + torch.sum(preds == label)\n",
        "    \n",
        "  # update the learning rate scheduler\n",
        "  accuracy_per_epoch_train = train_corrects / len(train_dataloader.dataset)\n",
        "  list_accuracy_per_epoch_train.append(accuracy_per_epoch_train)\n",
        "\n",
        "  loss_per_epoch_train =  train_loss / len(train_dataloader)\n",
        "  list_loss_per_epoch_train.append(loss_per_epoch_train)\n",
        "\n",
        "  print(\"training accuracy per epoch : {:4f}, training loss per epoch : {:4f}\".format(accuracy_per_epoch_train, loss_per_epoch_train))\n",
        "\n",
        "  with torch.no_grad():\n",
        "    model.eval()\n",
        "    for input, target in tqdm(test_dataloader, desc = 'test'):\n",
        "      inputs, labels = input.to(device), target.to(device)\n",
        "\n",
        "      vision_transformer_test = model(inputs)\n",
        "      cost_function_test = loss_function(vision_transformer_test, labels)\n",
        "\n",
        "      _, preds = torch.max(vision_transformer_test, 1)\n",
        "\n",
        "      test_loss = test_loss + cost_function_test.item()\n",
        "      test_corrects = test_corrects + torch.sum(preds==labels)\n",
        "    \n",
        "  # Get the accuracy of test sets\n",
        "  accuracy_per_epoch_test = test_corrects / len(train_dataloader.dataset)\n",
        "  list_accuracy_per_epoch_test.append(accuracy_per_epoch_test)\n",
        "\n",
        "  # Get the loss of training sets\n",
        "  loss_per_epoch_test = test_loss / len(train_dataloader)\n",
        "  list_loss_per_epoch_test.append(loss_per_epoch_test)\n",
        "\n",
        "  print(\"test accuracy per epoch : {:4f}, training loss per epoch : {:4f}\".format(accuracy_per_epoch_test, loss_per_epoch_test))\n",
        "\n",
        "\n"
      ]
    },
    {
      "cell_type": "markdown",
      "metadata": {
        "id": "xz5GoVQBlcOC"
      },
      "source": [
        "# Show the graph of accuracy and loss"
      ]
    },
    {
      "cell_type": "code",
      "execution_count": 70,
      "metadata": {
        "colab": {
          "base_uri": "https://localhost:8080/",
          "height": 229
        },
        "id": "TBPfKxA0lgrX",
        "outputId": "5377480c-9560-476d-e9b2-7f11171e60a9"
      },
      "outputs": [
        {
          "data": {
            "text/plain": [
              "<matplotlib.legend.Legend at 0x1277e082910>"
            ]
          },
          "execution_count": 70,
          "metadata": {},
          "output_type": "execute_result"
        },
        {
          "data": {
            "image/png": "[encoded data removed]",
            "text/plain": [
              "<Figure size 640x480 with 1 Axes>"
            ]
          },
          "metadata": {},
          "output_type": "display_data"
        }
      ],
      "source": [
        "# Graph of loss per epoch\n",
        "plt.plot(list_loss_per_epoch_train, label ='training loss')\n",
        "plt.plot(list_loss_per_epoch_test, label = 'test loss')\n",
        "plt.legend()"
      ]
    },
    {
      "cell_type": "code",
      "execution_count": null,
      "metadata": {
        "id": "gVxpEPacwMeN"
      },
      "outputs": [],
      "source": [
        "plt.plot(list_accuracy_per_epoch_train, label = 'training accuracy')\n",
        "plt.plot(list_accuracy_per_epoch_test, label = 'test accuracy')\n",
        "plt.legend()"
      ]
    },
    {
      "cell_type": "markdown",
      "metadata": {
        "id": "4cN6iZvVf9xJ"
      },
      "source": [
        "# version with transfer learning and fine-tuning"
      ]
    },
    {
      "cell_type": "code",
      "execution_count": 9,
      "metadata": {
        "colab": {
          "base_uri": "https://localhost:8080/"
        },
        "id": "nGq6PdrgupFt",
        "outputId": "901ffb68-e640-4eac-b79f-b9e9bacd9ba7"
      },
      "outputs": [
        {
          "data": {
            "text/plain": [
              "ViT(\n",
              "  (patch_embedding): Conv2d(3, 768, kernel_size=(16, 16), stride=(16, 16))\n",
              "  (positional_embedding): PositionalEmbedding1D()\n",
              "  (transformer): Transformer(\n",
              "    (blocks): ModuleList(\n",
              "      (0): Block(\n",
              "        (attn): MultiHeadedSelfAttention(\n",
              "          (proj_q): Linear(in_features=768, out_features=768, bias=True)\n",
              "          (proj_k): Linear(in_features=768, out_features=768, bias=True)\n",
              "          (proj_v): Linear(in_features=768, out_features=768, bias=True)\n",
              "          (drop): Dropout(p=0.1, inplace=False)\n",
              "        )\n",
              "        (proj): Linear(in_features=768, out_features=768, bias=True)\n",
              "        (norm1): LayerNorm((768,), eps=1e-06, elementwise_affine=True)\n",
              "        (pwff): PositionWiseFeedForward(\n",
              "          (fc1): Linear(in_features=768, out_features=3072, bias=True)\n",
              "          (fc2): Linear(in_features=3072, out_features=768, bias=True)\n",
              "        )\n",
              "        (norm2): LayerNorm((768,), eps=1e-06, elementwise_affine=True)\n",
              "        (drop): Dropout(p=0.1, inplace=False)\n",
              "      )\n",
              "      (1): Block(\n",
              "        (attn): MultiHeadedSelfAttention(\n",
              "          (proj_q): Linear(in_features=768, out_features=768, bias=True)\n",
              "          (proj_k): Linear(in_features=768, out_features=768, bias=True)\n",
              "          (proj_v): Linear(in_features=768, out_features=768, bias=True)\n",
              "          (drop): Dropout(p=0.1, inplace=False)\n",
              "        )\n",
              "        (proj): Linear(in_features=768, out_features=768, bias=True)\n",
              "        (norm1): LayerNorm((768,), eps=1e-06, elementwise_affine=True)\n",
              "        (pwff): PositionWiseFeedForward(\n",
              "          (fc1): Linear(in_features=768, out_features=3072, bias=True)\n",
              "          (fc2): Linear(in_features=3072, out_features=768, bias=True)\n",
              "        )\n",
              "        (norm2): LayerNorm((768,), eps=1e-06, elementwise_affine=True)\n",
              "        (drop): Dropout(p=0.1, inplace=False)\n",
              "      )\n",
              "      (2): Block(\n",
              "        (attn): MultiHeadedSelfAttention(\n",
              "          (proj_q): Linear(in_features=768, out_features=768, bias=True)\n",
              "          (proj_k): Linear(in_features=768, out_features=768, bias=True)\n",
              "          (proj_v): Linear(in_features=768, out_features=768, bias=True)\n",
              "          (drop): Dropout(p=0.1, inplace=False)\n",
              "        )\n",
              "        (proj): Linear(in_features=768, out_features=768, bias=True)\n",
              "        (norm1): LayerNorm((768,), eps=1e-06, elementwise_affine=True)\n",
              "        (pwff): PositionWiseFeedForward(\n",
              "          (fc1): Linear(in_features=768, out_features=3072, bias=True)\n",
              "          (fc2): Linear(in_features=3072, out_features=768, bias=True)\n",
              "        )\n",
              "        (norm2): LayerNorm((768,), eps=1e-06, elementwise_affine=True)\n",
              "        (drop): Dropout(p=0.1, inplace=False)\n",
              "      )\n",
              "      (3): Block(\n",
              "        (attn): MultiHeadedSelfAttention(\n",
              "          (proj_q): Linear(in_features=768, out_features=768, bias=True)\n",
              "          (proj_k): Linear(in_features=768, out_features=768, bias=True)\n",
              "          (proj_v): Linear(in_features=768, out_features=768, bias=True)\n",
              "          (drop): Dropout(p=0.1, inplace=False)\n",
              "        )\n",
              "        (proj): Linear(in_features=768, out_features=768, bias=True)\n",
              "        (norm1): LayerNorm((768,), eps=1e-06, elementwise_affine=True)\n",
              "        (pwff): PositionWiseFeedForward(\n",
              "          (fc1): Linear(in_features=768, out_features=3072, bias=True)\n",
              "          (fc2): Linear(in_features=3072, out_features=768, bias=True)\n",
              "        )\n",
              "        (norm2): LayerNorm((768,), eps=1e-06, elementwise_affine=True)\n",
              "        (drop): Dropout(p=0.1, inplace=False)\n",
              "      )\n",
              "      (4): Block(\n",
              "        (attn): MultiHeadedSelfAttention(\n",
              "          (proj_q): Linear(in_features=768, out_features=768, bias=True)\n",
              "          (proj_k): Linear(in_features=768, out_features=768, bias=True)\n",
              "          (proj_v): Linear(in_features=768, out_features=768, bias=True)\n",
              "          (drop): Dropout(p=0.1, inplace=False)\n",
              "        )\n",
              "        (proj): Linear(in_features=768, out_features=768, bias=True)\n",
              "        (norm1): LayerNorm((768,), eps=1e-06, elementwise_affine=True)\n",
              "        (pwff): PositionWiseFeedForward(\n",
              "          (fc1): Linear(in_features=768, out_features=3072, bias=True)\n",
              "          (fc2): Linear(in_features=3072, out_features=768, bias=True)\n",
              "        )\n",
              "        (norm2): LayerNorm((768,), eps=1e-06, elementwise_affine=True)\n",
              "        (drop): Dropout(p=0.1, inplace=False)\n",
              "      )\n",
              "      (5): Block(\n",
              "        (attn): MultiHeadedSelfAttention(\n",
              "          (proj_q): Linear(in_features=768, out_features=768, bias=True)\n",
              "          (proj_k): Linear(in_features=768, out_features=768, bias=True)\n",
              "          (proj_v): Linear(in_features=768, out_features=768, bias=True)\n",
              "          (drop): Dropout(p=0.1, inplace=False)\n",
              "        )\n",
              "        (proj): Linear(in_features=768, out_features=768, bias=True)\n",
              "        (norm1): LayerNorm((768,), eps=1e-06, elementwise_affine=True)\n",
              "        (pwff): PositionWiseFeedForward(\n",
              "          (fc1): Linear(in_features=768, out_features=3072, bias=True)\n",
              "          (fc2): Linear(in_features=3072, out_features=768, bias=True)\n",
              "        )\n",
              "        (norm2): LayerNorm((768,), eps=1e-06, elementwise_affine=True)\n",
              "        (drop): Dropout(p=0.1, inplace=False)\n",
              "      )\n",
              "      (6): Block(\n",
              "        (attn): MultiHeadedSelfAttention(\n",
              "          (proj_q): Linear(in_features=768, out_features=768, bias=True)\n",
              "          (proj_k): Linear(in_features=768, out_features=768, bias=True)\n",
              "          (proj_v): Linear(in_features=768, out_features=768, bias=True)\n",
              "          (drop): Dropout(p=0.1, inplace=False)\n",
              "        )\n",
              "        (proj): Linear(in_features=768, out_features=768, bias=True)\n",
              "        (norm1): LayerNorm((768,), eps=1e-06, elementwise_affine=True)\n",
              "        (pwff): PositionWiseFeedForward(\n",
              "          (fc1): Linear(in_features=768, out_features=3072, bias=True)\n",
              "          (fc2): Linear(in_features=3072, out_features=768, bias=True)\n",
              "        )\n",
              "        (norm2): LayerNorm((768,), eps=1e-06, elementwise_affine=True)\n",
              "        (drop): Dropout(p=0.1, inplace=False)\n",
              "      )\n",
              "      (7): Block(\n",
              "        (attn): MultiHeadedSelfAttention(\n",
              "          (proj_q): Linear(in_features=768, out_features=768, bias=True)\n",
              "          (proj_k): Linear(in_features=768, out_features=768, bias=True)\n",
              "          (proj_v): Linear(in_features=768, out_features=768, bias=True)\n",
              "          (drop): Dropout(p=0.1, inplace=False)\n",
              "        )\n",
              "        (proj): Linear(in_features=768, out_features=768, bias=True)\n",
              "        (norm1): LayerNorm((768,), eps=1e-06, elementwise_affine=True)\n",
              "        (pwff): PositionWiseFeedForward(\n",
              "          (fc1): Linear(in_features=768, out_features=3072, bias=True)\n",
              "          (fc2): Linear(in_features=3072, out_features=768, bias=True)\n",
              "        )\n",
              "        (norm2): LayerNorm((768,), eps=1e-06, elementwise_affine=True)\n",
              "        (drop): Dropout(p=0.1, inplace=False)\n",
              "      )\n",
              "      (8): Block(\n",
              "        (attn): MultiHeadedSelfAttention(\n",
              "          (proj_q): Linear(in_features=768, out_features=768, bias=True)\n",
              "          (proj_k): Linear(in_features=768, out_features=768, bias=True)\n",
              "          (proj_v): Linear(in_features=768, out_features=768, bias=True)\n",
              "          (drop): Dropout(p=0.1, inplace=False)\n",
              "        )\n",
              "        (proj): Linear(in_features=768, out_features=768, bias=True)\n",
              "        (norm1): LayerNorm((768,), eps=1e-06, elementwise_affine=True)\n",
              "        (pwff): PositionWiseFeedForward(\n",
              "          (fc1): Linear(in_features=768, out_features=3072, bias=True)\n",
              "          (fc2): Linear(in_features=3072, out_features=768, bias=True)\n",
              "        )\n",
              "        (norm2): LayerNorm((768,), eps=1e-06, elementwise_affine=True)\n",
              "        (drop): Dropout(p=0.1, inplace=False)\n",
              "      )\n",
              "      (9): Block(\n",
              "        (attn): MultiHeadedSelfAttention(\n",
              "          (proj_q): Linear(in_features=768, out_features=768, bias=True)\n",
              "          (proj_k): Linear(in_features=768, out_features=768, bias=True)\n",
              "          (proj_v): Linear(in_features=768, out_features=768, bias=True)\n",
              "          (drop): Dropout(p=0.1, inplace=False)\n",
              "        )\n",
              "        (proj): Linear(in_features=768, out_features=768, bias=True)\n",
              "        (norm1): LayerNorm((768,), eps=1e-06, elementwise_affine=True)\n",
              "        (pwff): PositionWiseFeedForward(\n",
              "          (fc1): Linear(in_features=768, out_features=3072, bias=True)\n",
              "          (fc2): Linear(in_features=3072, out_features=768, bias=True)\n",
              "        )\n",
              "        (norm2): LayerNorm((768,), eps=1e-06, elementwise_affine=True)\n",
              "        (drop): Dropout(p=0.1, inplace=False)\n",
              "      )\n",
              "      (10): Block(\n",
              "        (attn): MultiHeadedSelfAttention(\n",
              "          (proj_q): Linear(in_features=768, out_features=768, bias=True)\n",
              "          (proj_k): Linear(in_features=768, out_features=768, bias=True)\n",
              "          (proj_v): Linear(in_features=768, out_features=768, bias=True)\n",
              "          (drop): Dropout(p=0.1, inplace=False)\n",
              "        )\n",
              "        (proj): Linear(in_features=768, out_features=768, bias=True)\n",
              "        (norm1): LayerNorm((768,), eps=1e-06, elementwise_affine=True)\n",
              "        (pwff): PositionWiseFeedForward(\n",
              "          (fc1): Linear(in_features=768, out_features=3072, bias=True)\n",
              "          (fc2): Linear(in_features=3072, out_features=768, bias=True)\n",
              "        )\n",
              "        (norm2): LayerNorm((768,), eps=1e-06, elementwise_affine=True)\n",
              "        (drop): Dropout(p=0.1, inplace=False)\n",
              "      )\n",
              "      (11): Block(\n",
              "        (attn): MultiHeadedSelfAttention(\n",
              "          (proj_q): Linear(in_features=768, out_features=768, bias=True)\n",
              "          (proj_k): Linear(in_features=768, out_features=768, bias=True)\n",
              "          (proj_v): Linear(in_features=768, out_features=768, bias=True)\n",
              "          (drop): Dropout(p=0.1, inplace=False)\n",
              "        )\n",
              "        (proj): Linear(in_features=768, out_features=768, bias=True)\n",
              "        (norm1): LayerNorm((768,), eps=1e-06, elementwise_affine=True)\n",
              "        (pwff): PositionWiseFeedForward(\n",
              "          (fc1): Linear(in_features=768, out_features=3072, bias=True)\n",
              "          (fc2): Linear(in_features=3072, out_features=768, bias=True)\n",
              "        )\n",
              "        (norm2): LayerNorm((768,), eps=1e-06, elementwise_affine=True)\n",
              "        (drop): Dropout(p=0.1, inplace=False)\n",
              "      )\n",
              "    )\n",
              "  )\n",
              "  (norm): LayerNorm((768,), eps=1e-06, elementwise_affine=True)\n",
              "  (fc): Sequential(\n",
              "    (0): Linear(in_features=768, out_features=400, bias=True)\n",
              "    (1): Linear(in_features=400, out_features=200, bias=True)\n",
              "    (2): Linear(in_features=200, out_features=100, bias=True)\n",
              "    (3): Linear(in_features=100, out_features=20, bias=True)\n",
              "    (4): Linear(in_features=20, out_features=5, bias=True)\n",
              "  )\n",
              ")"
            ]
          },
          "execution_count": 9,
          "metadata": {},
          "output_type": "execute_result"
        }
      ],
      "source": [
        "# class to erase the unneeded layer for fine tuning\n",
        "class Erase_Layer(nn.Module):\n",
        "  def __init__(self):\n",
        "    super(Erase_Layer, self).__init__()\n",
        "  def forward(self, x):\n",
        "    return x\n",
        "\n",
        "for param in model.parameters():\n",
        "  param.requires_grad = False\n",
        "\n",
        "\n",
        "\n",
        "model.fc = nn.Sequential(nn.Linear(768, 400),\n",
        "                         nn.Linear(400, 200),\n",
        "                         nn.Linear(200, 100),\n",
        "                         nn.Linear(100, 20),\n",
        "                         nn.Linear(20, 5))\n",
        "\n",
        "model.to(device)"
      ]
    },
    {
      "cell_type": "code",
      "execution_count": 10,
      "metadata": {
        "colab": {
          "background_save": true,
          "base_uri": "https://localhost:8080/"
        },
        "id": "u_4p-w1XueVQ",
        "outputId": "3b7a6bca-b9c7-4448-e2b3-ca1fa163d587"
      },
      "outputs": [
        {
          "name": "stderr",
          "output_type": "stream",
          "text": [
            "  0%|          | 0/100 [00:00<?, ?it/s]C:\\Users\\shpar\\AppData\\Local\\Temp\\ipykernel_15076\\3971879612.py:30: UserWarning: torch.nn.utils.clip_grad_norm is now deprecated in favor of torch.nn.utils.clip_grad_norm_.\n",
            "  gradient_clipping = torch.nn.utils.clip_grad_norm(model.parameters(), 1)\n",
            "train: 100%|██████████| 799/799 [12:50<00:00,  1.04it/s]\n"
          ]
        },
        {
          "name": "stdout",
          "output_type": "stream",
          "text": [
            "the loss of training results per epoch is 1.597618\n",
            "the accuracy of training results per epoch is 0.166217\n"
          ]
        },
        {
          "name": "stderr",
          "output_type": "stream",
          "text": [
            "test: 100%|██████████| 310/310 [04:05<00:00,  1.26it/s]\n",
            "  1%|          | 1/100 [16:55<27:56:00, 1015.76s/it]"
          ]
        },
        {
          "name": "stdout",
          "output_type": "stream",
          "text": [
            "the loss of testing results per epoch is 1.591974\n",
            "the accuracy of testing results per epoch is 0.174536\n"
          ]
        },
        {
          "name": "stderr",
          "output_type": "stream",
          "text": [
            "train: 100%|██████████| 799/799 [12:20<00:00,  1.08it/s]\n"
          ]
        },
        {
          "name": "stdout",
          "output_type": "stream",
          "text": [
            "the loss of training results per epoch is 1.597506\n",
            "the accuracy of training results per epoch is 0.166373\n"
          ]
        },
        {
          "name": "stderr",
          "output_type": "stream",
          "text": [
            "test: 100%|██████████| 310/310 [05:40<00:00,  1.10s/it]\n",
            "  2%|▏         | 2/100 [34:57<28:42:18, 1054.47s/it]"
          ]
        },
        {
          "name": "stdout",
          "output_type": "stream",
          "text": [
            "the loss of testing results per epoch is 1.591974\n",
            "the accuracy of testing results per epoch is 0.174536\n"
          ]
        },
        {
          "name": "stderr",
          "output_type": "stream",
          "text": [
            "train: 100%|██████████| 799/799 [14:22<00:00,  1.08s/it]\n"
          ]
        },
        {
          "name": "stdout",
          "output_type": "stream",
          "text": [
            "the loss of training results per epoch is 1.597547\n",
            "the accuracy of training results per epoch is 0.166060\n"
          ]
        },
        {
          "name": "stderr",
          "output_type": "stream",
          "text": [
            "test: 100%|██████████| 310/310 [04:45<00:00,  1.08it/s]\n",
            "  3%|▎         | 3/100 [54:05<29:33:57, 1097.29s/it]"
          ]
        },
        {
          "name": "stdout",
          "output_type": "stream",
          "text": [
            "the loss of testing results per epoch is 1.591974\n",
            "the accuracy of testing results per epoch is 0.174536\n"
          ]
        },
        {
          "name": "stderr",
          "output_type": "stream",
          "text": [
            "train: 100%|██████████| 799/799 [11:53<00:00,  1.12it/s]\n"
          ]
        },
        {
          "name": "stdout",
          "output_type": "stream",
          "text": [
            "the loss of training results per epoch is 1.597334\n",
            "the accuracy of training results per epoch is 0.166412\n"
          ]
        },
        {
          "name": "stderr",
          "output_type": "stream",
          "text": [
            "test: 100%|██████████| 310/310 [04:05<00:00,  1.26it/s]\n",
            "  4%|▍         | 4/100 [1:10:05<27:48:37, 1042.89s/it]"
          ]
        },
        {
          "name": "stdout",
          "output_type": "stream",
          "text": [
            "the loss of testing results per epoch is 1.591974\n",
            "the accuracy of testing results per epoch is 0.174536\n"
          ]
        },
        {
          "name": "stderr",
          "output_type": "stream",
          "text": [
            "train: 100%|██████████| 799/799 [11:27<00:00,  1.16it/s]\n"
          ]
        },
        {
          "name": "stdout",
          "output_type": "stream",
          "text": [
            "the loss of training results per epoch is 1.597353\n",
            "the accuracy of training results per epoch is 0.168565\n"
          ]
        },
        {
          "name": "stderr",
          "output_type": "stream",
          "text": [
            "test: 100%|██████████| 310/310 [04:05<00:00,  1.26it/s]\n",
            "  5%|▌         | 5/100 [1:25:38<26:28:35, 1003.32s/it]"
          ]
        },
        {
          "name": "stdout",
          "output_type": "stream",
          "text": [
            "the loss of testing results per epoch is 1.591974\n",
            "the accuracy of testing results per epoch is 0.174536\n"
          ]
        },
        {
          "name": "stderr",
          "output_type": "stream",
          "text": [
            "train: 100%|██████████| 799/799 [11:31<00:00,  1.16it/s]\n"
          ]
        },
        {
          "name": "stdout",
          "output_type": "stream",
          "text": [
            "the loss of training results per epoch is 1.597390\n",
            "the accuracy of training results per epoch is 0.166060\n"
          ]
        },
        {
          "name": "stderr",
          "output_type": "stream",
          "text": [
            "test: 100%|██████████| 310/310 [04:09<00:00,  1.24it/s]\n",
            "  6%|▌         | 6/100 [1:41:19<25:38:40, 982.13s/it] "
          ]
        },
        {
          "name": "stdout",
          "output_type": "stream",
          "text": [
            "the loss of testing results per epoch is 1.591974\n",
            "the accuracy of testing results per epoch is 0.174536\n"
          ]
        },
        {
          "name": "stderr",
          "output_type": "stream",
          "text": [
            "train: 100%|██████████| 799/799 [11:28<00:00,  1.16it/s]\n"
          ]
        },
        {
          "name": "stdout",
          "output_type": "stream",
          "text": [
            "the loss of training results per epoch is 1.597341\n",
            "the accuracy of training results per epoch is 0.166647\n"
          ]
        },
        {
          "name": "stderr",
          "output_type": "stream",
          "text": [
            "test: 100%|██████████| 310/310 [04:03<00:00,  1.28it/s]\n",
            "  7%|▋         | 7/100 [1:56:51<24:56:48, 965.68s/it]"
          ]
        },
        {
          "name": "stdout",
          "output_type": "stream",
          "text": [
            "the loss of testing results per epoch is 1.591974\n",
            "the accuracy of testing results per epoch is 0.174536\n"
          ]
        },
        {
          "name": "stderr",
          "output_type": "stream",
          "text": [
            "train: 100%|██████████| 799/799 [11:15<00:00,  1.18it/s]\n"
          ]
        },
        {
          "name": "stdout",
          "output_type": "stream",
          "text": [
            "the loss of training results per epoch is 1.597360\n",
            "the accuracy of training results per epoch is 0.166334\n"
          ]
        },
        {
          "name": "stderr",
          "output_type": "stream",
          "text": [
            "test: 100%|██████████| 310/310 [04:01<00:00,  1.28it/s]\n",
            "  8%|▊         | 8/100 [2:12:08<24:17:16, 950.40s/it]"
          ]
        },
        {
          "name": "stdout",
          "output_type": "stream",
          "text": [
            "the loss of testing results per epoch is 1.591974\n",
            "the accuracy of testing results per epoch is 0.174536\n"
          ]
        },
        {
          "name": "stderr",
          "output_type": "stream",
          "text": [
            "train: 100%|██████████| 799/799 [11:10<00:00,  1.19it/s]\n"
          ]
        },
        {
          "name": "stdout",
          "output_type": "stream",
          "text": [
            "the loss of training results per epoch is 1.597409\n",
            "the accuracy of training results per epoch is 0.167078\n"
          ]
        },
        {
          "name": "stderr",
          "output_type": "stream",
          "text": [
            "test: 100%|██████████| 310/310 [03:59<00:00,  1.29it/s]\n",
            "  9%|▉         | 9/100 [2:27:19<23:42:36, 937.99s/it]"
          ]
        },
        {
          "name": "stdout",
          "output_type": "stream",
          "text": [
            "the loss of testing results per epoch is 1.591974\n",
            "the accuracy of testing results per epoch is 0.174536\n"
          ]
        },
        {
          "name": "stderr",
          "output_type": "stream",
          "text": [
            "train: 100%|██████████| 799/799 [11:13<00:00,  1.19it/s]\n"
          ]
        },
        {
          "name": "stdout",
          "output_type": "stream",
          "text": [
            "the loss of training results per epoch is 1.597221\n",
            "the accuracy of training results per epoch is 0.166530\n"
          ]
        },
        {
          "name": "stderr",
          "output_type": "stream",
          "text": [
            "test: 100%|██████████| 310/310 [04:03<00:00,  1.27it/s]\n",
            " 10%|█         | 10/100 [2:42:36<23:17:28, 931.65s/it]"
          ]
        },
        {
          "name": "stdout",
          "output_type": "stream",
          "text": [
            "the loss of testing results per epoch is 1.591974\n",
            "the accuracy of testing results per epoch is 0.174536\n"
          ]
        },
        {
          "name": "stderr",
          "output_type": "stream",
          "text": [
            "train: 100%|██████████| 799/799 [11:24<00:00,  1.17it/s]\n"
          ]
        },
        {
          "name": "stdout",
          "output_type": "stream",
          "text": [
            "the loss of training results per epoch is 1.597431\n",
            "the accuracy of training results per epoch is 0.166491\n"
          ]
        },
        {
          "name": "stderr",
          "output_type": "stream",
          "text": [
            "test: 100%|██████████| 310/310 [04:05<00:00,  1.26it/s]\n",
            " 11%|█         | 11/100 [2:58:06<23:01:11, 931.14s/it]"
          ]
        },
        {
          "name": "stdout",
          "output_type": "stream",
          "text": [
            "the loss of testing results per epoch is 1.591974\n",
            "the accuracy of testing results per epoch is 0.174536\n"
          ]
        },
        {
          "name": "stderr",
          "output_type": "stream",
          "text": [
            "train: 100%|██████████| 799/799 [11:27<00:00,  1.16it/s]\n"
          ]
        },
        {
          "name": "stdout",
          "output_type": "stream",
          "text": [
            "the loss of training results per epoch is 1.597198\n",
            "the accuracy of training results per epoch is 0.166491\n"
          ]
        },
        {
          "name": "stderr",
          "output_type": "stream",
          "text": [
            "test: 100%|██████████| 310/310 [04:05<00:00,  1.26it/s]\n",
            " 12%|█▏        | 12/100 [3:13:40<22:46:40, 931.83s/it]"
          ]
        },
        {
          "name": "stdout",
          "output_type": "stream",
          "text": [
            "the loss of testing results per epoch is 1.591974\n",
            "the accuracy of testing results per epoch is 0.174536\n"
          ]
        },
        {
          "name": "stderr",
          "output_type": "stream",
          "text": [
            "train: 100%|██████████| 799/799 [11:27<00:00,  1.16it/s]\n"
          ]
        },
        {
          "name": "stdout",
          "output_type": "stream",
          "text": [
            "the loss of training results per epoch is 1.597343\n",
            "the accuracy of training results per epoch is 0.167391\n"
          ]
        },
        {
          "name": "stderr",
          "output_type": "stream",
          "text": [
            "test: 100%|██████████| 310/310 [04:05<00:00,  1.26it/s]\n",
            " 13%|█▎        | 13/100 [3:29:13<22:31:44, 932.24s/it]"
          ]
        },
        {
          "name": "stdout",
          "output_type": "stream",
          "text": [
            "the loss of testing results per epoch is 1.591974\n",
            "the accuracy of testing results per epoch is 0.174536\n"
          ]
        },
        {
          "name": "stderr",
          "output_type": "stream",
          "text": [
            "train: 100%|██████████| 799/799 [11:26<00:00,  1.16it/s]\n"
          ]
        },
        {
          "name": "stdout",
          "output_type": "stream",
          "text": [
            "the loss of training results per epoch is 1.597368\n",
            "the accuracy of training results per epoch is 0.165356\n"
          ]
        },
        {
          "name": "stderr",
          "output_type": "stream",
          "text": [
            "test: 100%|██████████| 310/310 [04:06<00:00,  1.26it/s]\n",
            " 14%|█▍        | 14/100 [3:44:47<22:16:47, 932.65s/it]"
          ]
        },
        {
          "name": "stdout",
          "output_type": "stream",
          "text": [
            "the loss of testing results per epoch is 1.591974\n",
            "the accuracy of testing results per epoch is 0.174536\n"
          ]
        },
        {
          "name": "stderr",
          "output_type": "stream",
          "text": [
            "train: 100%|██████████| 799/799 [11:28<00:00,  1.16it/s]\n"
          ]
        },
        {
          "name": "stdout",
          "output_type": "stream",
          "text": [
            "the loss of training results per epoch is 1.597138\n",
            "the accuracy of training results per epoch is 0.169074\n"
          ]
        },
        {
          "name": "stderr",
          "output_type": "stream",
          "text": [
            "test: 100%|██████████| 310/310 [04:05<00:00,  1.26it/s]\n",
            " 15%|█▌        | 15/100 [4:00:20<22:01:45, 933.00s/it]"
          ]
        },
        {
          "name": "stdout",
          "output_type": "stream",
          "text": [
            "the loss of testing results per epoch is 1.591974\n",
            "the accuracy of testing results per epoch is 0.174536\n"
          ]
        },
        {
          "name": "stderr",
          "output_type": "stream",
          "text": [
            "train: 100%|██████████| 799/799 [11:26<00:00,  1.16it/s]\n"
          ]
        },
        {
          "name": "stdout",
          "output_type": "stream",
          "text": [
            "the loss of training results per epoch is 1.597308\n",
            "the accuracy of training results per epoch is 0.165160\n"
          ]
        },
        {
          "name": "stderr",
          "output_type": "stream",
          "text": [
            "test: 100%|██████████| 310/310 [04:05<00:00,  1.26it/s]\n",
            " 16%|█▌        | 16/100 [4:15:53<21:45:52, 932.76s/it]"
          ]
        },
        {
          "name": "stdout",
          "output_type": "stream",
          "text": [
            "the loss of testing results per epoch is 1.591974\n",
            "the accuracy of testing results per epoch is 0.174536\n"
          ]
        },
        {
          "name": "stderr",
          "output_type": "stream",
          "text": [
            "train: 100%|██████████| 799/799 [11:25<00:00,  1.16it/s]\n"
          ]
        },
        {
          "name": "stdout",
          "output_type": "stream",
          "text": [
            "the loss of training results per epoch is 1.597515\n",
            "the accuracy of training results per epoch is 0.168173\n"
          ]
        },
        {
          "name": "stderr",
          "output_type": "stream",
          "text": [
            "test: 100%|██████████| 310/310 [04:05<00:00,  1.26it/s]\n",
            " 17%|█▋        | 17/100 [4:31:24<21:29:50, 932.41s/it]"
          ]
        },
        {
          "name": "stdout",
          "output_type": "stream",
          "text": [
            "the loss of testing results per epoch is 1.591974\n",
            "the accuracy of testing results per epoch is 0.174536\n"
          ]
        },
        {
          "name": "stderr",
          "output_type": "stream",
          "text": [
            "train: 100%|██████████| 799/799 [11:25<00:00,  1.17it/s]\n"
          ]
        },
        {
          "name": "stdout",
          "output_type": "stream",
          "text": [
            "the loss of training results per epoch is 1.597524\n",
            "the accuracy of training results per epoch is 0.166451\n"
          ]
        },
        {
          "name": "stderr",
          "output_type": "stream",
          "text": [
            "test: 100%|██████████| 310/310 [04:06<00:00,  1.26it/s]\n",
            " 18%|█▊        | 18/100 [4:46:56<21:14:15, 932.38s/it]"
          ]
        },
        {
          "name": "stdout",
          "output_type": "stream",
          "text": [
            "the loss of testing results per epoch is 1.591974\n",
            "the accuracy of testing results per epoch is 0.174536\n"
          ]
        },
        {
          "name": "stderr",
          "output_type": "stream",
          "text": [
            "train: 100%|██████████| 799/799 [11:27<00:00,  1.16it/s]\n"
          ]
        },
        {
          "name": "stdout",
          "output_type": "stream",
          "text": [
            "the loss of training results per epoch is 1.597427\n",
            "the accuracy of training results per epoch is 0.167900\n"
          ]
        },
        {
          "name": "stderr",
          "output_type": "stream",
          "text": [
            "test: 100%|██████████| 310/310 [04:05<00:00,  1.26it/s]\n",
            " 19%|█▉        | 19/100 [5:02:30<20:59:04, 932.65s/it]"
          ]
        },
        {
          "name": "stdout",
          "output_type": "stream",
          "text": [
            "the loss of testing results per epoch is 1.591974\n",
            "the accuracy of testing results per epoch is 0.174536\n"
          ]
        },
        {
          "name": "stderr",
          "output_type": "stream",
          "text": [
            "train: 100%|██████████| 799/799 [11:27<00:00,  1.16it/s]\n"
          ]
        },
        {
          "name": "stdout",
          "output_type": "stream",
          "text": [
            "the loss of training results per epoch is 1.597360\n",
            "the accuracy of training results per epoch is 0.167626\n"
          ]
        },
        {
          "name": "stderr",
          "output_type": "stream",
          "text": [
            "test: 100%|██████████| 310/310 [04:05<00:00,  1.26it/s]\n",
            " 20%|██        | 20/100 [5:18:03<20:43:36, 932.70s/it]"
          ]
        },
        {
          "name": "stdout",
          "output_type": "stream",
          "text": [
            "the loss of testing results per epoch is 1.591974\n",
            "the accuracy of testing results per epoch is 0.174536\n"
          ]
        },
        {
          "name": "stderr",
          "output_type": "stream",
          "text": [
            "train: 100%|██████████| 799/799 [11:26<00:00,  1.16it/s]\n"
          ]
        },
        {
          "name": "stdout",
          "output_type": "stream",
          "text": [
            "the loss of training results per epoch is 1.597478\n",
            "the accuracy of training results per epoch is 0.167078\n"
          ]
        },
        {
          "name": "stderr",
          "output_type": "stream",
          "text": [
            "test: 100%|██████████| 310/310 [04:05<00:00,  1.26it/s]\n",
            " 21%|██        | 21/100 [5:33:34<20:27:34, 932.34s/it]"
          ]
        },
        {
          "name": "stdout",
          "output_type": "stream",
          "text": [
            "the loss of testing results per epoch is 1.591974\n",
            "the accuracy of testing results per epoch is 0.174536\n"
          ]
        },
        {
          "name": "stderr",
          "output_type": "stream",
          "text": [
            "train: 100%|██████████| 799/799 [11:25<00:00,  1.17it/s]\n"
          ]
        },
        {
          "name": "stdout",
          "output_type": "stream",
          "text": [
            "the loss of training results per epoch is 1.597516\n",
            "the accuracy of training results per epoch is 0.165316\n"
          ]
        },
        {
          "name": "stderr",
          "output_type": "stream",
          "text": [
            "test: 100%|██████████| 310/310 [04:06<00:00,  1.26it/s]\n",
            " 22%|██▏       | 22/100 [5:49:06<20:12:01, 932.33s/it]"
          ]
        },
        {
          "name": "stdout",
          "output_type": "stream",
          "text": [
            "the loss of testing results per epoch is 1.591974\n",
            "the accuracy of testing results per epoch is 0.174536\n"
          ]
        },
        {
          "name": "stderr",
          "output_type": "stream",
          "text": [
            "train: 100%|██████████| 799/799 [11:27<00:00,  1.16it/s]\n"
          ]
        },
        {
          "name": "stdout",
          "output_type": "stream",
          "text": [
            "the loss of training results per epoch is 1.597224\n",
            "the accuracy of training results per epoch is 0.169191\n"
          ]
        },
        {
          "name": "stderr",
          "output_type": "stream",
          "text": [
            "test: 100%|██████████| 310/310 [04:05<00:00,  1.26it/s]\n",
            " 23%|██▎       | 23/100 [6:04:40<19:56:49, 932.60s/it]"
          ]
        },
        {
          "name": "stdout",
          "output_type": "stream",
          "text": [
            "the loss of testing results per epoch is 1.591974\n",
            "the accuracy of testing results per epoch is 0.174536\n"
          ]
        },
        {
          "name": "stderr",
          "output_type": "stream",
          "text": [
            "train: 100%|██████████| 799/799 [11:29<00:00,  1.16it/s]\n"
          ]
        },
        {
          "name": "stdout",
          "output_type": "stream",
          "text": [
            "the loss of training results per epoch is 1.597522\n",
            "the accuracy of training results per epoch is 0.165786\n"
          ]
        },
        {
          "name": "stderr",
          "output_type": "stream",
          "text": [
            "test: 100%|██████████| 310/310 [04:05<00:00,  1.26it/s]\n",
            " 24%|██▍       | 24/100 [6:20:15<19:42:10, 933.30s/it]"
          ]
        },
        {
          "name": "stdout",
          "output_type": "stream",
          "text": [
            "the loss of testing results per epoch is 1.591974\n",
            "the accuracy of testing results per epoch is 0.174536\n"
          ]
        },
        {
          "name": "stderr",
          "output_type": "stream",
          "text": [
            "train: 100%|██████████| 799/799 [11:25<00:00,  1.17it/s]\n"
          ]
        },
        {
          "name": "stdout",
          "output_type": "stream",
          "text": [
            "the loss of training results per epoch is 1.597376\n",
            "the accuracy of training results per epoch is 0.166334\n"
          ]
        },
        {
          "name": "stderr",
          "output_type": "stream",
          "text": [
            "test: 100%|██████████| 310/310 [04:04<00:00,  1.27it/s]\n",
            " 25%|██▌       | 25/100 [6:35:45<19:25:25, 932.34s/it]"
          ]
        },
        {
          "name": "stdout",
          "output_type": "stream",
          "text": [
            "the loss of testing results per epoch is 1.591974\n",
            "the accuracy of testing results per epoch is 0.174536\n"
          ]
        },
        {
          "name": "stderr",
          "output_type": "stream",
          "text": [
            "train: 100%|██████████| 799/799 [12:15<00:00,  1.09it/s]\n"
          ]
        },
        {
          "name": "stdout",
          "output_type": "stream",
          "text": [
            "the loss of training results per epoch is 1.597639\n",
            "the accuracy of training results per epoch is 0.167352\n"
          ]
        },
        {
          "name": "stderr",
          "output_type": "stream",
          "text": [
            "test: 100%|██████████| 310/310 [04:48<00:00,  1.07it/s]\n",
            " 26%|██▌       | 26/100 [6:52:48<19:43:42, 959.77s/it]"
          ]
        },
        {
          "name": "stdout",
          "output_type": "stream",
          "text": [
            "the loss of testing results per epoch is 1.591974\n",
            "the accuracy of testing results per epoch is 0.174536\n"
          ]
        },
        {
          "name": "stderr",
          "output_type": "stream",
          "text": [
            "train: 100%|██████████| 799/799 [12:51<00:00,  1.04it/s]\n"
          ]
        },
        {
          "name": "stdout",
          "output_type": "stream",
          "text": [
            "the loss of training results per epoch is 1.597473\n",
            "the accuracy of training results per epoch is 0.167430\n"
          ]
        },
        {
          "name": "stderr",
          "output_type": "stream",
          "text": [
            "test: 100%|██████████| 310/310 [04:44<00:00,  1.09it/s]\n",
            " 27%|██▋       | 27/100 [7:10:24<20:02:49, 988.63s/it]"
          ]
        },
        {
          "name": "stdout",
          "output_type": "stream",
          "text": [
            "the loss of testing results per epoch is 1.591974\n",
            "the accuracy of testing results per epoch is 0.174536\n"
          ]
        },
        {
          "name": "stderr",
          "output_type": "stream",
          "text": [
            "train: 100%|██████████| 799/799 [11:37<00:00,  1.14it/s]\n"
          ]
        },
        {
          "name": "stdout",
          "output_type": "stream",
          "text": [
            "the loss of training results per epoch is 1.597150\n",
            "the accuracy of training results per epoch is 0.168565\n"
          ]
        },
        {
          "name": "stderr",
          "output_type": "stream",
          "text": [
            "test: 100%|██████████| 310/310 [04:00<00:00,  1.29it/s]\n",
            " 28%|██▊       | 28/100 [7:26:02<19:28:10, 973.48s/it]"
          ]
        },
        {
          "name": "stdout",
          "output_type": "stream",
          "text": [
            "the loss of testing results per epoch is 1.591974\n",
            "the accuracy of testing results per epoch is 0.174536\n"
          ]
        },
        {
          "name": "stderr",
          "output_type": "stream",
          "text": [
            "train: 100%|██████████| 799/799 [11:12<00:00,  1.19it/s]\n"
          ]
        },
        {
          "name": "stdout",
          "output_type": "stream",
          "text": [
            "the loss of training results per epoch is 1.597467\n",
            "the accuracy of training results per epoch is 0.164338\n"
          ]
        },
        {
          "name": "stderr",
          "output_type": "stream",
          "text": [
            "test: 100%|██████████| 310/310 [03:59<00:00,  1.29it/s]\n",
            " 29%|██▉       | 29/100 [7:41:15<18:50:09, 955.07s/it]"
          ]
        },
        {
          "name": "stdout",
          "output_type": "stream",
          "text": [
            "the loss of testing results per epoch is 1.591974\n",
            "the accuracy of testing results per epoch is 0.174536\n"
          ]
        },
        {
          "name": "stderr",
          "output_type": "stream",
          "text": [
            "train: 100%|██████████| 799/799 [11:11<00:00,  1.19it/s]\n"
          ]
        },
        {
          "name": "stdout",
          "output_type": "stream",
          "text": [
            "the loss of training results per epoch is 1.597346\n",
            "the accuracy of training results per epoch is 0.167900\n"
          ]
        },
        {
          "name": "stderr",
          "output_type": "stream",
          "text": [
            "test: 100%|██████████| 310/310 [04:02<00:00,  1.28it/s]\n",
            " 30%|███       | 30/100 [7:56:28<18:19:40, 942.58s/it]"
          ]
        },
        {
          "name": "stdout",
          "output_type": "stream",
          "text": [
            "the loss of testing results per epoch is 1.591974\n",
            "the accuracy of testing results per epoch is 0.174536\n"
          ]
        },
        {
          "name": "stderr",
          "output_type": "stream",
          "text": [
            "train: 100%|██████████| 799/799 [11:11<00:00,  1.19it/s]\n"
          ]
        },
        {
          "name": "stdout",
          "output_type": "stream",
          "text": [
            "the loss of training results per epoch is 1.597333\n",
            "the accuracy of training results per epoch is 0.166999\n"
          ]
        },
        {
          "name": "stderr",
          "output_type": "stream",
          "text": [
            "test: 100%|██████████| 310/310 [04:00<00:00,  1.29it/s]\n",
            " 31%|███       | 31/100 [8:11:40<17:53:17, 933.30s/it]"
          ]
        },
        {
          "name": "stdout",
          "output_type": "stream",
          "text": [
            "the loss of testing results per epoch is 1.591974\n",
            "the accuracy of testing results per epoch is 0.174536\n"
          ]
        },
        {
          "name": "stderr",
          "output_type": "stream",
          "text": [
            "train: 100%|██████████| 799/799 [11:12<00:00,  1.19it/s]\n"
          ]
        },
        {
          "name": "stdout",
          "output_type": "stream",
          "text": [
            "the loss of training results per epoch is 1.597553\n",
            "the accuracy of training results per epoch is 0.165160\n"
          ]
        },
        {
          "name": "stderr",
          "output_type": "stream",
          "text": [
            "test: 100%|██████████| 310/310 [04:02<00:00,  1.28it/s]\n",
            " 32%|███▏      | 32/100 [8:26:54<17:31:24, 927.71s/it]"
          ]
        },
        {
          "name": "stdout",
          "output_type": "stream",
          "text": [
            "the loss of testing results per epoch is 1.591974\n",
            "the accuracy of testing results per epoch is 0.174536\n"
          ]
        },
        {
          "name": "stderr",
          "output_type": "stream",
          "text": [
            "train: 100%|██████████| 799/799 [13:20<00:00,  1.00s/it]\n"
          ]
        },
        {
          "name": "stdout",
          "output_type": "stream",
          "text": [
            "the loss of training results per epoch is 1.597431\n",
            "the accuracy of training results per epoch is 0.167312\n"
          ]
        },
        {
          "name": "stderr",
          "output_type": "stream",
          "text": [
            "test: 100%|██████████| 310/310 [04:46<00:00,  1.08it/s]\n",
            " 33%|███▎      | 33/100 [8:45:01<18:09:16, 975.46s/it]"
          ]
        },
        {
          "name": "stdout",
          "output_type": "stream",
          "text": [
            "the loss of testing results per epoch is 1.591974\n",
            "the accuracy of testing results per epoch is 0.174536\n"
          ]
        },
        {
          "name": "stderr",
          "output_type": "stream",
          "text": [
            "train: 100%|██████████| 799/799 [13:20<00:00,  1.00s/it]\n"
          ]
        },
        {
          "name": "stdout",
          "output_type": "stream",
          "text": [
            "the loss of training results per epoch is 1.597560\n",
            "the accuracy of training results per epoch is 0.165982\n"
          ]
        },
        {
          "name": "stderr",
          "output_type": "stream",
          "text": [
            "test: 100%|██████████| 310/310 [04:46<00:00,  1.08it/s]\n",
            " 34%|███▍      | 34/100 [9:03:09<18:29:56, 1009.04s/it]"
          ]
        },
        {
          "name": "stdout",
          "output_type": "stream",
          "text": [
            "the loss of testing results per epoch is 1.591974\n",
            "the accuracy of testing results per epoch is 0.174536\n"
          ]
        },
        {
          "name": "stderr",
          "output_type": "stream",
          "text": [
            "train: 100%|██████████| 799/799 [13:21<00:00,  1.00s/it]\n"
          ]
        },
        {
          "name": "stdout",
          "output_type": "stream",
          "text": [
            "the loss of training results per epoch is 1.597078\n",
            "the accuracy of training results per epoch is 0.170287\n"
          ]
        },
        {
          "name": "stderr",
          "output_type": "stream",
          "text": [
            "test: 100%|██████████| 310/310 [04:45<00:00,  1.08it/s]\n",
            " 35%|███▌      | 35/100 [9:21:16<18:38:36, 1032.57s/it]"
          ]
        },
        {
          "name": "stdout",
          "output_type": "stream",
          "text": [
            "the loss of testing results per epoch is 1.591974\n",
            "the accuracy of testing results per epoch is 0.174536\n"
          ]
        },
        {
          "name": "stderr",
          "output_type": "stream",
          "text": [
            "train: 100%|██████████| 799/799 [13:20<00:00,  1.00s/it]\n"
          ]
        },
        {
          "name": "stdout",
          "output_type": "stream",
          "text": [
            "the loss of training results per epoch is 1.597429\n",
            "the accuracy of training results per epoch is 0.166334\n"
          ]
        },
        {
          "name": "stderr",
          "output_type": "stream",
          "text": [
            "test: 100%|██████████| 310/310 [04:42<00:00,  1.10it/s]\n",
            " 36%|███▌      | 36/100 [9:39:19<18:37:31, 1047.68s/it]"
          ]
        },
        {
          "name": "stdout",
          "output_type": "stream",
          "text": [
            "the loss of testing results per epoch is 1.591974\n",
            "the accuracy of testing results per epoch is 0.174536\n"
          ]
        },
        {
          "name": "stderr",
          "output_type": "stream",
          "text": [
            "train: 100%|██████████| 799/799 [12:37<00:00,  1.05it/s]\n"
          ]
        },
        {
          "name": "stdout",
          "output_type": "stream",
          "text": [
            "the loss of training results per epoch is 1.597268\n",
            "the accuracy of training results per epoch is 0.169543\n"
          ]
        },
        {
          "name": "stderr",
          "output_type": "stream",
          "text": [
            "test: 100%|██████████| 310/310 [04:06<00:00,  1.26it/s]\n",
            " 37%|███▋      | 37/100 [9:56:03<18:06:11, 1034.48s/it]"
          ]
        },
        {
          "name": "stdout",
          "output_type": "stream",
          "text": [
            "the loss of testing results per epoch is 1.591974\n",
            "the accuracy of testing results per epoch is 0.174536\n"
          ]
        },
        {
          "name": "stderr",
          "output_type": "stream",
          "text": [
            "train: 100%|██████████| 799/799 [11:29<00:00,  1.16it/s]\n"
          ]
        },
        {
          "name": "stdout",
          "output_type": "stream",
          "text": [
            "the loss of training results per epoch is 1.597371\n",
            "the accuracy of training results per epoch is 0.166256\n"
          ]
        },
        {
          "name": "stderr",
          "output_type": "stream",
          "text": [
            "test: 100%|██████████| 310/310 [04:07<00:00,  1.25it/s]\n",
            " 38%|███▊      | 38/100 [10:11:40<17:18:51, 1005.35s/it]"
          ]
        },
        {
          "name": "stdout",
          "output_type": "stream",
          "text": [
            "the loss of testing results per epoch is 1.591974\n",
            "the accuracy of testing results per epoch is 0.174536\n"
          ]
        },
        {
          "name": "stderr",
          "output_type": "stream",
          "text": [
            "train: 100%|██████████| 799/799 [11:27<00:00,  1.16it/s]\n"
          ]
        },
        {
          "name": "stdout",
          "output_type": "stream",
          "text": [
            "the loss of training results per epoch is 1.597329\n",
            "the accuracy of training results per epoch is 0.166608\n"
          ]
        },
        {
          "name": "stderr",
          "output_type": "stream",
          "text": [
            "test: 100%|██████████| 310/310 [04:05<00:00,  1.26it/s]\n",
            " 39%|███▉      | 39/100 [10:27:13<16:39:52, 983.49s/it] "
          ]
        },
        {
          "name": "stdout",
          "output_type": "stream",
          "text": [
            "the loss of testing results per epoch is 1.591974\n",
            "the accuracy of testing results per epoch is 0.174536\n"
          ]
        },
        {
          "name": "stderr",
          "output_type": "stream",
          "text": [
            "train: 100%|██████████| 799/799 [11:28<00:00,  1.16it/s]\n"
          ]
        },
        {
          "name": "stdout",
          "output_type": "stream",
          "text": [
            "the loss of training results per epoch is 1.597272\n",
            "the accuracy of training results per epoch is 0.167626\n"
          ]
        },
        {
          "name": "stderr",
          "output_type": "stream",
          "text": [
            "test: 100%|██████████| 310/310 [04:05<00:00,  1.26it/s]\n",
            " 40%|████      | 40/100 [10:42:47<16:08:44, 968.75s/it]"
          ]
        },
        {
          "name": "stdout",
          "output_type": "stream",
          "text": [
            "the loss of testing results per epoch is 1.591974\n",
            "the accuracy of testing results per epoch is 0.174536\n"
          ]
        },
        {
          "name": "stderr",
          "output_type": "stream",
          "text": [
            "train: 100%|██████████| 799/799 [11:28<00:00,  1.16it/s]\n"
          ]
        },
        {
          "name": "stdout",
          "output_type": "stream",
          "text": [
            "the loss of training results per epoch is 1.597282\n",
            "the accuracy of training results per epoch is 0.165864\n"
          ]
        },
        {
          "name": "stderr",
          "output_type": "stream",
          "text": [
            "test: 100%|██████████| 310/310 [04:05<00:00,  1.26it/s]\n",
            " 41%|████      | 41/100 [10:58:21<15:42:28, 958.45s/it]"
          ]
        },
        {
          "name": "stdout",
          "output_type": "stream",
          "text": [
            "the loss of testing results per epoch is 1.591974\n",
            "the accuracy of testing results per epoch is 0.174536\n"
          ]
        },
        {
          "name": "stderr",
          "output_type": "stream",
          "text": [
            "train: 100%|██████████| 799/799 [11:27<00:00,  1.16it/s]\n"
          ]
        },
        {
          "name": "stdout",
          "output_type": "stream",
          "text": [
            "the loss of training results per epoch is 1.597591\n",
            "the accuracy of training results per epoch is 0.167273\n"
          ]
        },
        {
          "name": "stderr",
          "output_type": "stream",
          "text": [
            "test: 100%|██████████| 310/310 [04:07<00:00,  1.25it/s]\n",
            " 42%|████▏     | 42/100 [11:13:57<15:19:48, 951.52s/it]"
          ]
        },
        {
          "name": "stdout",
          "output_type": "stream",
          "text": [
            "the loss of testing results per epoch is 1.591974\n",
            "the accuracy of testing results per epoch is 0.174536\n"
          ]
        },
        {
          "name": "stderr",
          "output_type": "stream",
          "text": [
            "train: 100%|██████████| 799/799 [13:54<00:00,  1.05s/it]\n"
          ]
        },
        {
          "name": "stdout",
          "output_type": "stream",
          "text": [
            "the loss of training results per epoch is 1.597371\n",
            "the accuracy of training results per epoch is 0.164808\n"
          ]
        },
        {
          "name": "stderr",
          "output_type": "stream",
          "text": [
            "test: 100%|██████████| 310/310 [05:03<00:00,  1.02it/s]\n",
            " 43%|████▎     | 43/100 [11:32:55<15:57:15, 1007.65s/it]"
          ]
        },
        {
          "name": "stdout",
          "output_type": "stream",
          "text": [
            "the loss of testing results per epoch is 1.591974\n",
            "the accuracy of testing results per epoch is 0.174536\n"
          ]
        },
        {
          "name": "stderr",
          "output_type": "stream",
          "text": [
            "train: 100%|██████████| 799/799 [11:36<00:00,  1.15it/s]\n"
          ]
        },
        {
          "name": "stdout",
          "output_type": "stream",
          "text": [
            "the loss of training results per epoch is 1.597558\n",
            "the accuracy of training results per epoch is 0.166451\n"
          ]
        },
        {
          "name": "stderr",
          "output_type": "stream",
          "text": [
            "test: 100%|██████████| 310/310 [04:05<00:00,  1.26it/s]\n",
            " 44%|████▍     | 44/100 [11:48:38<15:22:10, 988.05s/it] "
          ]
        },
        {
          "name": "stdout",
          "output_type": "stream",
          "text": [
            "the loss of testing results per epoch is 1.591974\n",
            "the accuracy of testing results per epoch is 0.174536\n"
          ]
        },
        {
          "name": "stderr",
          "output_type": "stream",
          "text": [
            "train: 100%|██████████| 799/799 [11:28<00:00,  1.16it/s]\n"
          ]
        },
        {
          "name": "stdout",
          "output_type": "stream",
          "text": [
            "the loss of training results per epoch is 1.597288\n",
            "the accuracy of training results per epoch is 0.165082\n"
          ]
        },
        {
          "name": "stderr",
          "output_type": "stream",
          "text": [
            "test: 100%|██████████| 310/310 [04:05<00:00,  1.26it/s]\n",
            " 45%|████▌     | 45/100 [12:04:12<14:50:55, 971.92s/it]"
          ]
        },
        {
          "name": "stdout",
          "output_type": "stream",
          "text": [
            "the loss of testing results per epoch is 1.591974\n",
            "the accuracy of testing results per epoch is 0.174536\n"
          ]
        },
        {
          "name": "stderr",
          "output_type": "stream",
          "text": [
            "train: 100%|██████████| 799/799 [11:28<00:00,  1.16it/s]\n"
          ]
        },
        {
          "name": "stdout",
          "output_type": "stream",
          "text": [
            "the loss of training results per epoch is 1.597472\n",
            "the accuracy of training results per epoch is 0.165551\n"
          ]
        },
        {
          "name": "stderr",
          "output_type": "stream",
          "text": [
            "test: 100%|██████████| 310/310 [04:07<00:00,  1.25it/s]\n",
            " 46%|████▌     | 46/100 [12:19:47<14:24:46, 960.87s/it]"
          ]
        },
        {
          "name": "stdout",
          "output_type": "stream",
          "text": [
            "the loss of testing results per epoch is 1.591974\n",
            "the accuracy of testing results per epoch is 0.174536\n"
          ]
        },
        {
          "name": "stderr",
          "output_type": "stream",
          "text": [
            "train: 100%|██████████| 799/799 [11:27<00:00,  1.16it/s]\n"
          ]
        },
        {
          "name": "stdout",
          "output_type": "stream",
          "text": [
            "the loss of training results per epoch is 1.597436\n",
            "the accuracy of training results per epoch is 0.167547\n"
          ]
        },
        {
          "name": "stderr",
          "output_type": "stream",
          "text": [
            "test: 100%|██████████| 310/310 [04:05<00:00,  1.26it/s]\n",
            " 47%|████▋     | 47/100 [12:35:20<14:01:29, 952.62s/it]"
          ]
        },
        {
          "name": "stdout",
          "output_type": "stream",
          "text": [
            "the loss of testing results per epoch is 1.591974\n",
            "the accuracy of testing results per epoch is 0.174536\n"
          ]
        },
        {
          "name": "stderr",
          "output_type": "stream",
          "text": [
            "train: 100%|██████████| 799/799 [11:28<00:00,  1.16it/s]\n"
          ]
        },
        {
          "name": "stdout",
          "output_type": "stream",
          "text": [
            "the loss of training results per epoch is 1.597518\n",
            "the accuracy of training results per epoch is 0.165042\n"
          ]
        },
        {
          "name": "stderr",
          "output_type": "stream",
          "text": [
            "test: 100%|██████████| 310/310 [04:05<00:00,  1.26it/s]\n",
            " 48%|████▊     | 48/100 [12:50:54<13:40:42, 946.96s/it]"
          ]
        },
        {
          "name": "stdout",
          "output_type": "stream",
          "text": [
            "the loss of testing results per epoch is 1.591974\n",
            "the accuracy of testing results per epoch is 0.174536\n"
          ]
        },
        {
          "name": "stderr",
          "output_type": "stream",
          "text": [
            "train: 100%|██████████| 799/799 [11:28<00:00,  1.16it/s]\n"
          ]
        },
        {
          "name": "stdout",
          "output_type": "stream",
          "text": [
            "the loss of training results per epoch is 1.597443\n",
            "the accuracy of training results per epoch is 0.164925\n"
          ]
        },
        {
          "name": "stderr",
          "output_type": "stream",
          "text": [
            "test: 100%|██████████| 310/310 [04:05<00:00,  1.26it/s]\n",
            " 49%|████▉     | 49/100 [13:06:28<13:21:40, 943.15s/it]"
          ]
        },
        {
          "name": "stdout",
          "output_type": "stream",
          "text": [
            "the loss of testing results per epoch is 1.591974\n",
            "the accuracy of testing results per epoch is 0.174536\n"
          ]
        },
        {
          "name": "stderr",
          "output_type": "stream",
          "text": [
            "train: 100%|██████████| 799/799 [11:28<00:00,  1.16it/s]\n"
          ]
        },
        {
          "name": "stdout",
          "output_type": "stream",
          "text": [
            "the loss of training results per epoch is 1.597192\n",
            "the accuracy of training results per epoch is 0.168173\n"
          ]
        },
        {
          "name": "stderr",
          "output_type": "stream",
          "text": [
            "test: 100%|██████████| 310/310 [04:07<00:00,  1.25it/s]\n",
            " 50%|█████     | 50/100 [13:22:04<13:04:02, 940.86s/it]"
          ]
        },
        {
          "name": "stdout",
          "output_type": "stream",
          "text": [
            "the loss of testing results per epoch is 1.591974\n",
            "the accuracy of testing results per epoch is 0.174536\n"
          ]
        },
        {
          "name": "stderr",
          "output_type": "stream",
          "text": [
            "train: 100%|██████████| 799/799 [11:27<00:00,  1.16it/s]\n"
          ]
        },
        {
          "name": "stdout",
          "output_type": "stream",
          "text": [
            "the loss of training results per epoch is 1.597294\n",
            "the accuracy of training results per epoch is 0.166256\n"
          ]
        },
        {
          "name": "stderr",
          "output_type": "stream",
          "text": [
            "test: 100%|██████████| 310/310 [04:05<00:00,  1.26it/s]\n",
            " 51%|█████     | 51/100 [13:37:38<12:46:36, 938.70s/it]"
          ]
        },
        {
          "name": "stdout",
          "output_type": "stream",
          "text": [
            "the loss of testing results per epoch is 1.591974\n",
            "the accuracy of testing results per epoch is 0.174536\n"
          ]
        },
        {
          "name": "stderr",
          "output_type": "stream",
          "text": [
            "train: 100%|██████████| 799/799 [11:28<00:00,  1.16it/s]\n"
          ]
        },
        {
          "name": "stdout",
          "output_type": "stream",
          "text": [
            "the loss of training results per epoch is 1.597153\n",
            "the accuracy of training results per epoch is 0.166491\n"
          ]
        },
        {
          "name": "stderr",
          "output_type": "stream",
          "text": [
            "test: 100%|██████████| 310/310 [04:05<00:00,  1.26it/s]\n",
            " 52%|█████▏    | 52/100 [13:53:12<12:29:49, 937.28s/it]"
          ]
        },
        {
          "name": "stdout",
          "output_type": "stream",
          "text": [
            "the loss of testing results per epoch is 1.591974\n",
            "the accuracy of testing results per epoch is 0.174536\n"
          ]
        },
        {
          "name": "stderr",
          "output_type": "stream",
          "text": [
            "train: 100%|██████████| 799/799 [11:28<00:00,  1.16it/s]\n"
          ]
        },
        {
          "name": "stdout",
          "output_type": "stream",
          "text": [
            "the loss of training results per epoch is 1.597530\n",
            "the accuracy of training results per epoch is 0.165356\n"
          ]
        },
        {
          "name": "stderr",
          "output_type": "stream",
          "text": [
            "test: 100%|██████████| 310/310 [04:05<00:00,  1.26it/s]\n",
            " 53%|█████▎    | 53/100 [14:08:46<12:13:32, 936.43s/it]"
          ]
        },
        {
          "name": "stdout",
          "output_type": "stream",
          "text": [
            "the loss of testing results per epoch is 1.591974\n",
            "the accuracy of testing results per epoch is 0.174536\n"
          ]
        },
        {
          "name": "stderr",
          "output_type": "stream",
          "text": [
            "train: 100%|██████████| 799/799 [11:28<00:00,  1.16it/s]\n"
          ]
        },
        {
          "name": "stdout",
          "output_type": "stream",
          "text": [
            "the loss of training results per epoch is 1.597483\n",
            "the accuracy of training results per epoch is 0.166373\n"
          ]
        },
        {
          "name": "stderr",
          "output_type": "stream",
          "text": [
            "test: 100%|██████████| 310/310 [04:07<00:00,  1.25it/s]\n",
            " 54%|█████▍    | 54/100 [14:24:22<11:57:46, 936.23s/it]"
          ]
        },
        {
          "name": "stdout",
          "output_type": "stream",
          "text": [
            "the loss of testing results per epoch is 1.591974\n",
            "the accuracy of testing results per epoch is 0.174536\n"
          ]
        },
        {
          "name": "stderr",
          "output_type": "stream",
          "text": [
            "train: 100%|██████████| 799/799 [11:28<00:00,  1.16it/s]\n"
          ]
        },
        {
          "name": "stdout",
          "output_type": "stream",
          "text": [
            "the loss of training results per epoch is 1.597428\n",
            "the accuracy of training results per epoch is 0.166491\n"
          ]
        },
        {
          "name": "stderr",
          "output_type": "stream",
          "text": [
            "test: 100%|██████████| 310/310 [04:05<00:00,  1.26it/s]\n",
            " 55%|█████▌    | 55/100 [14:39:56<11:41:42, 935.62s/it]"
          ]
        },
        {
          "name": "stdout",
          "output_type": "stream",
          "text": [
            "the loss of testing results per epoch is 1.591974\n",
            "the accuracy of testing results per epoch is 0.174536\n"
          ]
        },
        {
          "name": "stderr",
          "output_type": "stream",
          "text": [
            "train: 100%|██████████| 799/799 [11:28<00:00,  1.16it/s]\n"
          ]
        },
        {
          "name": "stdout",
          "output_type": "stream",
          "text": [
            "the loss of training results per epoch is 1.597516\n",
            "the accuracy of training results per epoch is 0.167743\n"
          ]
        },
        {
          "name": "stderr",
          "output_type": "stream",
          "text": [
            "test: 100%|██████████| 310/310 [04:05<00:00,  1.26it/s]\n",
            " 56%|█████▌    | 56/100 [14:55:30<11:25:45, 935.11s/it]"
          ]
        },
        {
          "name": "stdout",
          "output_type": "stream",
          "text": [
            "the loss of testing results per epoch is 1.591974\n",
            "the accuracy of testing results per epoch is 0.174536\n"
          ]
        },
        {
          "name": "stderr",
          "output_type": "stream",
          "text": [
            "train: 100%|██████████| 799/799 [11:28<00:00,  1.16it/s]\n"
          ]
        },
        {
          "name": "stdout",
          "output_type": "stream",
          "text": [
            "the loss of training results per epoch is 1.597455\n",
            "the accuracy of training results per epoch is 0.166491\n"
          ]
        },
        {
          "name": "stderr",
          "output_type": "stream",
          "text": [
            "test: 100%|██████████| 310/310 [04:05<00:00,  1.26it/s]\n",
            " 57%|█████▋    | 57/100 [15:11:04<11:09:56, 934.81s/it]"
          ]
        },
        {
          "name": "stdout",
          "output_type": "stream",
          "text": [
            "the loss of testing results per epoch is 1.591974\n",
            "the accuracy of testing results per epoch is 0.174536\n"
          ]
        },
        {
          "name": "stderr",
          "output_type": "stream",
          "text": [
            "train: 100%|██████████| 799/799 [11:28<00:00,  1.16it/s]\n"
          ]
        },
        {
          "name": "stdout",
          "output_type": "stream",
          "text": [
            "the loss of training results per epoch is 1.597472\n",
            "the accuracy of training results per epoch is 0.167038\n"
          ]
        },
        {
          "name": "stderr",
          "output_type": "stream",
          "text": [
            "test: 100%|██████████| 310/310 [04:07<00:00,  1.25it/s]\n",
            " 58%|█████▊    | 58/100 [15:26:40<10:54:33, 935.08s/it]"
          ]
        },
        {
          "name": "stdout",
          "output_type": "stream",
          "text": [
            "the loss of testing results per epoch is 1.591974\n",
            "the accuracy of testing results per epoch is 0.174536\n"
          ]
        },
        {
          "name": "stderr",
          "output_type": "stream",
          "text": [
            "train: 100%|██████████| 799/799 [11:28<00:00,  1.16it/s]\n"
          ]
        },
        {
          "name": "stdout",
          "output_type": "stream",
          "text": [
            "the loss of training results per epoch is 1.597468\n",
            "the accuracy of training results per epoch is 0.165551\n"
          ]
        },
        {
          "name": "stderr",
          "output_type": "stream",
          "text": [
            "test: 100%|██████████| 310/310 [04:05<00:00,  1.26it/s]\n",
            " 59%|█████▉    | 59/100 [15:42:14<10:38:47, 934.82s/it]"
          ]
        },
        {
          "name": "stdout",
          "output_type": "stream",
          "text": [
            "the loss of testing results per epoch is 1.591974\n",
            "the accuracy of testing results per epoch is 0.174536\n"
          ]
        },
        {
          "name": "stderr",
          "output_type": "stream",
          "text": [
            "train: 100%|██████████| 799/799 [11:28<00:00,  1.16it/s]\n"
          ]
        },
        {
          "name": "stdout",
          "output_type": "stream",
          "text": [
            "the loss of training results per epoch is 1.597437\n",
            "the accuracy of training results per epoch is 0.167626\n"
          ]
        },
        {
          "name": "stderr",
          "output_type": "stream",
          "text": [
            "test: 100%|██████████| 310/310 [04:05<00:00,  1.26it/s]\n",
            " 60%|██████    | 60/100 [15:57:48<10:23:04, 934.62s/it]"
          ]
        },
        {
          "name": "stdout",
          "output_type": "stream",
          "text": [
            "the loss of testing results per epoch is 1.591974\n",
            "the accuracy of testing results per epoch is 0.174536\n"
          ]
        },
        {
          "name": "stderr",
          "output_type": "stream",
          "text": [
            "train: 100%|██████████| 799/799 [11:28<00:00,  1.16it/s]\n"
          ]
        },
        {
          "name": "stdout",
          "output_type": "stream",
          "text": [
            "the loss of training results per epoch is 1.597122\n",
            "the accuracy of training results per epoch is 0.168800\n"
          ]
        },
        {
          "name": "stderr",
          "output_type": "stream",
          "text": [
            "test: 100%|██████████| 310/310 [04:05<00:00,  1.26it/s]\n",
            " 61%|██████    | 61/100 [16:13:22<10:07:23, 934.45s/it]"
          ]
        },
        {
          "name": "stdout",
          "output_type": "stream",
          "text": [
            "the loss of testing results per epoch is 1.591974\n",
            "the accuracy of testing results per epoch is 0.174536\n"
          ]
        },
        {
          "name": "stderr",
          "output_type": "stream",
          "text": [
            "train: 100%|██████████| 799/799 [11:28<00:00,  1.16it/s]\n"
          ]
        },
        {
          "name": "stdout",
          "output_type": "stream",
          "text": [
            "the loss of training results per epoch is 1.597143\n",
            "the accuracy of training results per epoch is 0.169661\n"
          ]
        },
        {
          "name": "stderr",
          "output_type": "stream",
          "text": [
            "test: 100%|██████████| 310/310 [04:07<00:00,  1.25it/s]\n",
            " 62%|██████▏   | 62/100 [16:28:57<9:51:59, 934.73s/it] "
          ]
        },
        {
          "name": "stdout",
          "output_type": "stream",
          "text": [
            "the loss of testing results per epoch is 1.591974\n",
            "the accuracy of testing results per epoch is 0.174536\n"
          ]
        },
        {
          "name": "stderr",
          "output_type": "stream",
          "text": [
            "train: 100%|██████████| 799/799 [11:28<00:00,  1.16it/s]\n"
          ]
        },
        {
          "name": "stdout",
          "output_type": "stream",
          "text": [
            "the loss of training results per epoch is 1.597488\n",
            "the accuracy of training results per epoch is 0.166256\n"
          ]
        },
        {
          "name": "stderr",
          "output_type": "stream",
          "text": [
            "test: 100%|██████████| 310/310 [04:05<00:00,  1.26it/s]\n",
            " 63%|██████▎   | 63/100 [16:44:31<9:36:16, 934.51s/it]"
          ]
        },
        {
          "name": "stdout",
          "output_type": "stream",
          "text": [
            "the loss of testing results per epoch is 1.591974\n",
            "the accuracy of testing results per epoch is 0.174536\n"
          ]
        },
        {
          "name": "stderr",
          "output_type": "stream",
          "text": [
            "train: 100%|██████████| 799/799 [11:28<00:00,  1.16it/s]\n"
          ]
        },
        {
          "name": "stdout",
          "output_type": "stream",
          "text": [
            "the loss of training results per epoch is 1.597226\n",
            "the accuracy of training results per epoch is 0.170483\n"
          ]
        },
        {
          "name": "stderr",
          "output_type": "stream",
          "text": [
            "test: 100%|██████████| 310/310 [04:05<00:00,  1.26it/s]\n",
            " 64%|██████▍   | 64/100 [17:00:06<9:20:38, 934.39s/it]"
          ]
        },
        {
          "name": "stdout",
          "output_type": "stream",
          "text": [
            "the loss of testing results per epoch is 1.591974\n",
            "the accuracy of testing results per epoch is 0.174536\n"
          ]
        },
        {
          "name": "stderr",
          "output_type": "stream",
          "text": [
            "train: 100%|██████████| 799/799 [11:27<00:00,  1.16it/s]\n"
          ]
        },
        {
          "name": "stdout",
          "output_type": "stream",
          "text": [
            "the loss of training results per epoch is 1.597445\n",
            "the accuracy of training results per epoch is 0.166295\n"
          ]
        },
        {
          "name": "stderr",
          "output_type": "stream",
          "text": [
            "test: 100%|██████████| 310/310 [04:05<00:00,  1.26it/s]\n",
            " 65%|██████▌   | 65/100 [17:15:39<9:04:55, 934.15s/it]"
          ]
        },
        {
          "name": "stdout",
          "output_type": "stream",
          "text": [
            "the loss of testing results per epoch is 1.591974\n",
            "the accuracy of testing results per epoch is 0.174536\n"
          ]
        },
        {
          "name": "stderr",
          "output_type": "stream",
          "text": [
            "train: 100%|██████████| 799/799 [11:28<00:00,  1.16it/s]\n"
          ]
        },
        {
          "name": "stdout",
          "output_type": "stream",
          "text": [
            "the loss of training results per epoch is 1.597243\n",
            "the accuracy of training results per epoch is 0.167860\n"
          ]
        },
        {
          "name": "stderr",
          "output_type": "stream",
          "text": [
            "test: 100%|██████████| 310/310 [04:07<00:00,  1.25it/s]\n",
            " 66%|██████▌   | 66/100 [17:31:15<8:49:34, 934.54s/it]"
          ]
        },
        {
          "name": "stdout",
          "output_type": "stream",
          "text": [
            "the loss of testing results per epoch is 1.591974\n",
            "the accuracy of testing results per epoch is 0.174536\n"
          ]
        },
        {
          "name": "stderr",
          "output_type": "stream",
          "text": [
            "train: 100%|██████████| 799/799 [11:27<00:00,  1.16it/s]\n"
          ]
        },
        {
          "name": "stdout",
          "output_type": "stream",
          "text": [
            "the loss of training results per epoch is 1.597174\n",
            "the accuracy of training results per epoch is 0.167234\n"
          ]
        },
        {
          "name": "stderr",
          "output_type": "stream",
          "text": [
            "test: 100%|██████████| 310/310 [04:05<00:00,  1.26it/s]\n",
            " 67%|██████▋   | 67/100 [17:46:48<8:33:51, 934.30s/it]"
          ]
        },
        {
          "name": "stdout",
          "output_type": "stream",
          "text": [
            "the loss of testing results per epoch is 1.591974\n",
            "the accuracy of testing results per epoch is 0.174536\n"
          ]
        },
        {
          "name": "stderr",
          "output_type": "stream",
          "text": [
            "train: 100%|██████████| 799/799 [11:28<00:00,  1.16it/s]\n"
          ]
        },
        {
          "name": "stdout",
          "output_type": "stream",
          "text": [
            "the loss of training results per epoch is 1.597215\n",
            "the accuracy of training results per epoch is 0.166451\n"
          ]
        },
        {
          "name": "stderr",
          "output_type": "stream",
          "text": [
            "test: 100%|██████████| 310/310 [04:05<00:00,  1.26it/s]\n",
            " 68%|██████▊   | 68/100 [18:02:23<8:18:16, 934.28s/it]"
          ]
        },
        {
          "name": "stdout",
          "output_type": "stream",
          "text": [
            "the loss of testing results per epoch is 1.591974\n",
            "the accuracy of testing results per epoch is 0.174536\n"
          ]
        },
        {
          "name": "stderr",
          "output_type": "stream",
          "text": [
            "train: 100%|██████████| 799/799 [11:28<00:00,  1.16it/s]\n"
          ]
        },
        {
          "name": "stdout",
          "output_type": "stream",
          "text": [
            "the loss of training results per epoch is 1.597188\n",
            "the accuracy of training results per epoch is 0.167078\n"
          ]
        },
        {
          "name": "stderr",
          "output_type": "stream",
          "text": [
            "test: 100%|██████████| 310/310 [04:05<00:00,  1.26it/s]\n",
            " 69%|██████▉   | 69/100 [18:17:56<8:02:38, 934.16s/it]"
          ]
        },
        {
          "name": "stdout",
          "output_type": "stream",
          "text": [
            "the loss of testing results per epoch is 1.591974\n",
            "the accuracy of testing results per epoch is 0.174536\n"
          ]
        },
        {
          "name": "stderr",
          "output_type": "stream",
          "text": [
            "train: 100%|██████████| 799/799 [11:28<00:00,  1.16it/s]\n"
          ]
        },
        {
          "name": "stdout",
          "output_type": "stream",
          "text": [
            "the loss of training results per epoch is 1.597030\n",
            "the accuracy of training results per epoch is 0.170248\n"
          ]
        },
        {
          "name": "stderr",
          "output_type": "stream",
          "text": [
            "test: 100%|██████████| 310/310 [04:07<00:00,  1.25it/s]\n",
            " 70%|███████   | 70/100 [18:33:32<7:47:15, 934.53s/it]"
          ]
        },
        {
          "name": "stdout",
          "output_type": "stream",
          "text": [
            "the loss of testing results per epoch is 1.591974\n",
            "the accuracy of testing results per epoch is 0.174536\n"
          ]
        },
        {
          "name": "stderr",
          "output_type": "stream",
          "text": [
            "train: 100%|██████████| 799/799 [11:28<00:00,  1.16it/s]\n"
          ]
        },
        {
          "name": "stdout",
          "output_type": "stream",
          "text": [
            "the loss of training results per epoch is 1.597564\n",
            "the accuracy of training results per epoch is 0.167234\n"
          ]
        },
        {
          "name": "stderr",
          "output_type": "stream",
          "text": [
            "test: 100%|██████████| 310/310 [04:05<00:00,  1.26it/s]\n",
            " 71%|███████   | 71/100 [18:49:06<7:31:36, 934.36s/it]"
          ]
        },
        {
          "name": "stdout",
          "output_type": "stream",
          "text": [
            "the loss of testing results per epoch is 1.591974\n",
            "the accuracy of testing results per epoch is 0.174536\n"
          ]
        },
        {
          "name": "stderr",
          "output_type": "stream",
          "text": [
            "train: 100%|██████████| 799/799 [11:28<00:00,  1.16it/s]\n"
          ]
        },
        {
          "name": "stdout",
          "output_type": "stream",
          "text": [
            "the loss of training results per epoch is 1.597360\n",
            "the accuracy of training results per epoch is 0.167273\n"
          ]
        },
        {
          "name": "stderr",
          "output_type": "stream",
          "text": [
            "test: 100%|██████████| 310/310 [04:05<00:00,  1.26it/s]\n",
            " 72%|███████▏  | 72/100 [19:04:40<7:15:59, 934.26s/it]"
          ]
        },
        {
          "name": "stdout",
          "output_type": "stream",
          "text": [
            "the loss of testing results per epoch is 1.591974\n",
            "the accuracy of testing results per epoch is 0.174536\n"
          ]
        },
        {
          "name": "stderr",
          "output_type": "stream",
          "text": [
            "train: 100%|██████████| 799/799 [11:28<00:00,  1.16it/s]\n"
          ]
        },
        {
          "name": "stdout",
          "output_type": "stream",
          "text": [
            "the loss of training results per epoch is 1.597478\n",
            "the accuracy of training results per epoch is 0.167195\n"
          ]
        },
        {
          "name": "stderr",
          "output_type": "stream",
          "text": [
            "test: 100%|██████████| 310/310 [04:05<00:00,  1.26it/s]\n",
            " 73%|███████▎  | 73/100 [19:20:14<7:00:23, 934.21s/it]"
          ]
        },
        {
          "name": "stdout",
          "output_type": "stream",
          "text": [
            "the loss of testing results per epoch is 1.591974\n",
            "the accuracy of testing results per epoch is 0.174536\n"
          ]
        },
        {
          "name": "stderr",
          "output_type": "stream",
          "text": [
            "train: 100%|██████████| 799/799 [11:28<00:00,  1.16it/s]\n"
          ]
        },
        {
          "name": "stdout",
          "output_type": "stream",
          "text": [
            "the loss of training results per epoch is 1.597510\n",
            "the accuracy of training results per epoch is 0.167234\n"
          ]
        },
        {
          "name": "stderr",
          "output_type": "stream",
          "text": [
            "test: 100%|██████████| 310/310 [04:07<00:00,  1.25it/s]\n",
            " 74%|███████▍  | 74/100 [19:35:50<6:45:02, 934.70s/it]"
          ]
        },
        {
          "name": "stdout",
          "output_type": "stream",
          "text": [
            "the loss of testing results per epoch is 1.591974\n",
            "the accuracy of testing results per epoch is 0.174536\n"
          ]
        },
        {
          "name": "stderr",
          "output_type": "stream",
          "text": [
            "train: 100%|██████████| 799/799 [11:28<00:00,  1.16it/s]\n"
          ]
        },
        {
          "name": "stdout",
          "output_type": "stream",
          "text": [
            "the loss of training results per epoch is 1.597493\n",
            "the accuracy of training results per epoch is 0.165747\n"
          ]
        },
        {
          "name": "stderr",
          "output_type": "stream",
          "text": [
            "test: 100%|██████████| 310/310 [04:06<00:00,  1.26it/s]\n",
            " 75%|███████▌  | 75/100 [19:51:25<6:29:28, 934.75s/it]"
          ]
        },
        {
          "name": "stdout",
          "output_type": "stream",
          "text": [
            "the loss of testing results per epoch is 1.591974\n",
            "the accuracy of testing results per epoch is 0.174536\n"
          ]
        },
        {
          "name": "stderr",
          "output_type": "stream",
          "text": [
            "train: 100%|██████████| 799/799 [11:28<00:00,  1.16it/s]\n"
          ]
        },
        {
          "name": "stdout",
          "output_type": "stream",
          "text": [
            "the loss of training results per epoch is 1.597108\n",
            "the accuracy of training results per epoch is 0.168173\n"
          ]
        },
        {
          "name": "stderr",
          "output_type": "stream",
          "text": [
            "test: 100%|██████████| 310/310 [04:05<00:00,  1.26it/s]\n",
            " 76%|███████▌  | 76/100 [20:06:59<6:13:52, 934.68s/it]"
          ]
        },
        {
          "name": "stdout",
          "output_type": "stream",
          "text": [
            "the loss of testing results per epoch is 1.591974\n",
            "the accuracy of testing results per epoch is 0.174536\n"
          ]
        },
        {
          "name": "stderr",
          "output_type": "stream",
          "text": [
            "train: 100%|██████████| 799/799 [11:28<00:00,  1.16it/s]\n"
          ]
        },
        {
          "name": "stdout",
          "output_type": "stream",
          "text": [
            "the loss of training results per epoch is 1.597369\n",
            "the accuracy of training results per epoch is 0.166217\n"
          ]
        },
        {
          "name": "stderr",
          "output_type": "stream",
          "text": [
            "test: 100%|██████████| 310/310 [04:05<00:00,  1.26it/s]\n",
            " 77%|███████▋  | 77/100 [20:22:34<5:58:16, 934.63s/it]"
          ]
        },
        {
          "name": "stdout",
          "output_type": "stream",
          "text": [
            "the loss of testing results per epoch is 1.591974\n",
            "the accuracy of testing results per epoch is 0.174536\n"
          ]
        },
        {
          "name": "stderr",
          "output_type": "stream",
          "text": [
            "train: 100%|██████████| 799/799 [11:28<00:00,  1.16it/s]\n"
          ]
        },
        {
          "name": "stdout",
          "output_type": "stream",
          "text": [
            "the loss of training results per epoch is 1.597451\n",
            "the accuracy of training results per epoch is 0.165864\n"
          ]
        },
        {
          "name": "stderr",
          "output_type": "stream",
          "text": [
            "test: 100%|██████████| 310/310 [04:07<00:00,  1.25it/s]\n",
            " 78%|███████▊  | 78/100 [20:38:10<5:42:50, 935.02s/it]"
          ]
        },
        {
          "name": "stdout",
          "output_type": "stream",
          "text": [
            "the loss of testing results per epoch is 1.591974\n",
            "the accuracy of testing results per epoch is 0.174536\n"
          ]
        },
        {
          "name": "stderr",
          "output_type": "stream",
          "text": [
            "train: 100%|██████████| 799/799 [11:28<00:00,  1.16it/s]\n"
          ]
        },
        {
          "name": "stdout",
          "output_type": "stream",
          "text": [
            "the loss of training results per epoch is 1.597453\n",
            "the accuracy of training results per epoch is 0.167508\n"
          ]
        },
        {
          "name": "stderr",
          "output_type": "stream",
          "text": [
            "test: 100%|██████████| 310/310 [04:06<00:00,  1.26it/s]\n",
            " 79%|███████▉  | 79/100 [20:53:44<5:27:11, 934.82s/it]"
          ]
        },
        {
          "name": "stdout",
          "output_type": "stream",
          "text": [
            "the loss of testing results per epoch is 1.591974\n",
            "the accuracy of testing results per epoch is 0.174536\n"
          ]
        },
        {
          "name": "stderr",
          "output_type": "stream",
          "text": [
            "train: 100%|██████████| 799/799 [11:31<00:00,  1.16it/s]\n"
          ]
        },
        {
          "name": "stdout",
          "output_type": "stream",
          "text": [
            "the loss of training results per epoch is 1.597469\n",
            "the accuracy of training results per epoch is 0.163477\n"
          ]
        },
        {
          "name": "stderr",
          "output_type": "stream",
          "text": [
            "test: 100%|██████████| 310/310 [04:08<00:00,  1.25it/s]\n",
            " 80%|████████  | 80/100 [21:09:23<5:12:02, 936.14s/it]"
          ]
        },
        {
          "name": "stdout",
          "output_type": "stream",
          "text": [
            "the loss of testing results per epoch is 1.591974\n",
            "the accuracy of testing results per epoch is 0.174536\n"
          ]
        },
        {
          "name": "stderr",
          "output_type": "stream",
          "text": [
            "train: 100%|██████████| 799/799 [11:35<00:00,  1.15it/s]\n"
          ]
        },
        {
          "name": "stdout",
          "output_type": "stream",
          "text": [
            "the loss of training results per epoch is 1.597347\n",
            "the accuracy of training results per epoch is 0.165238\n"
          ]
        },
        {
          "name": "stderr",
          "output_type": "stream",
          "text": [
            "test: 100%|██████████| 310/310 [04:07<00:00,  1.25it/s]\n",
            " 81%|████████  | 81/100 [21:25:05<4:57:01, 937.98s/it]"
          ]
        },
        {
          "name": "stdout",
          "output_type": "stream",
          "text": [
            "the loss of testing results per epoch is 1.591974\n",
            "the accuracy of testing results per epoch is 0.174536\n"
          ]
        },
        {
          "name": "stderr",
          "output_type": "stream",
          "text": [
            "train: 100%|██████████| 799/799 [11:11<00:00,  1.19it/s]\n"
          ]
        },
        {
          "name": "stdout",
          "output_type": "stream",
          "text": [
            "the loss of training results per epoch is 1.597384\n",
            "the accuracy of training results per epoch is 0.166491\n"
          ]
        },
        {
          "name": "stderr",
          "output_type": "stream",
          "text": [
            "test: 100%|██████████| 310/310 [04:26<00:00,  1.16it/s]\n",
            " 82%|████████▏ | 82/100 [21:40:44<4:41:26, 938.14s/it]"
          ]
        },
        {
          "name": "stdout",
          "output_type": "stream",
          "text": [
            "the loss of testing results per epoch is 1.591974\n",
            "the accuracy of testing results per epoch is 0.174536\n"
          ]
        },
        {
          "name": "stderr",
          "output_type": "stream",
          "text": [
            "train: 100%|██████████| 799/799 [13:40<00:00,  1.03s/it]\n"
          ]
        },
        {
          "name": "stdout",
          "output_type": "stream",
          "text": [
            "the loss of training results per epoch is 1.597501\n",
            "the accuracy of training results per epoch is 0.164416\n"
          ]
        },
        {
          "name": "stderr",
          "output_type": "stream",
          "text": [
            "test: 100%|██████████| 310/310 [04:54<00:00,  1.05it/s]\n",
            " 83%|████████▎ | 83/100 [21:59:20<4:40:54, 991.43s/it]"
          ]
        },
        {
          "name": "stdout",
          "output_type": "stream",
          "text": [
            "the loss of testing results per epoch is 1.591974\n",
            "the accuracy of testing results per epoch is 0.174536\n"
          ]
        },
        {
          "name": "stderr",
          "output_type": "stream",
          "text": [
            "train: 100%|██████████| 799/799 [12:42<00:00,  1.05it/s]\n"
          ]
        },
        {
          "name": "stdout",
          "output_type": "stream",
          "text": [
            "the loss of training results per epoch is 1.597296\n",
            "the accuracy of training results per epoch is 0.168878\n"
          ]
        },
        {
          "name": "stderr",
          "output_type": "stream",
          "text": [
            "test: 100%|██████████| 310/310 [04:00<00:00,  1.29it/s]\n",
            " 84%|████████▍ | 84/100 [22:16:03<4:25:18, 994.90s/it]"
          ]
        },
        {
          "name": "stdout",
          "output_type": "stream",
          "text": [
            "the loss of testing results per epoch is 1.591974\n",
            "the accuracy of testing results per epoch is 0.174536\n"
          ]
        },
        {
          "name": "stderr",
          "output_type": "stream",
          "text": [
            "train: 100%|██████████| 799/799 [11:12<00:00,  1.19it/s]\n"
          ]
        },
        {
          "name": "stdout",
          "output_type": "stream",
          "text": [
            "the loss of training results per epoch is 1.597724\n",
            "the accuracy of training results per epoch is 0.165277\n"
          ]
        },
        {
          "name": "stderr",
          "output_type": "stream",
          "text": [
            "test: 100%|██████████| 310/310 [04:00<00:00,  1.29it/s]\n",
            " 85%|████████▌ | 85/100 [22:31:15<4:02:31, 970.11s/it]"
          ]
        },
        {
          "name": "stdout",
          "output_type": "stream",
          "text": [
            "the loss of testing results per epoch is 1.591974\n",
            "the accuracy of testing results per epoch is 0.174536\n"
          ]
        },
        {
          "name": "stderr",
          "output_type": "stream",
          "text": [
            "train: 100%|██████████| 799/799 [11:11<00:00,  1.19it/s]\n"
          ]
        },
        {
          "name": "stdout",
          "output_type": "stream",
          "text": [
            "the loss of training results per epoch is 1.597175\n",
            "the accuracy of training results per epoch is 0.167782\n"
          ]
        },
        {
          "name": "stderr",
          "output_type": "stream",
          "text": [
            "test: 100%|██████████| 310/310 [04:01<00:00,  1.28it/s]\n",
            " 86%|████████▌ | 86/100 [22:46:29<3:42:24, 953.15s/it]"
          ]
        },
        {
          "name": "stdout",
          "output_type": "stream",
          "text": [
            "the loss of testing results per epoch is 1.591974\n",
            "the accuracy of testing results per epoch is 0.174536\n"
          ]
        },
        {
          "name": "stderr",
          "output_type": "stream",
          "text": [
            "train: 100%|██████████| 799/799 [11:15<00:00,  1.18it/s]\n"
          ]
        },
        {
          "name": "stdout",
          "output_type": "stream",
          "text": [
            "the loss of training results per epoch is 1.597435\n",
            "the accuracy of training results per epoch is 0.168526\n"
          ]
        },
        {
          "name": "stderr",
          "output_type": "stream",
          "text": [
            "test: 100%|██████████| 310/310 [04:00<00:00,  1.29it/s]\n",
            " 87%|████████▋ | 87/100 [23:01:45<3:24:06, 942.00s/it]"
          ]
        },
        {
          "name": "stdout",
          "output_type": "stream",
          "text": [
            "the loss of testing results per epoch is 1.591974\n",
            "the accuracy of testing results per epoch is 0.174536\n"
          ]
        },
        {
          "name": "stderr",
          "output_type": "stream",
          "text": [
            "train: 100%|██████████| 799/799 [11:11<00:00,  1.19it/s]\n"
          ]
        },
        {
          "name": "stdout",
          "output_type": "stream",
          "text": [
            "the loss of training results per epoch is 1.597518\n",
            "the accuracy of training results per epoch is 0.165630\n"
          ]
        },
        {
          "name": "stderr",
          "output_type": "stream",
          "text": [
            "test: 100%|██████████| 310/310 [04:03<00:00,  1.28it/s]\n",
            " 88%|████████▊ | 88/100 [23:17:00<3:06:46, 933.89s/it]"
          ]
        },
        {
          "name": "stdout",
          "output_type": "stream",
          "text": [
            "the loss of testing results per epoch is 1.591974\n",
            "the accuracy of testing results per epoch is 0.174536\n"
          ]
        },
        {
          "name": "stderr",
          "output_type": "stream",
          "text": [
            "train: 100%|██████████| 799/799 [11:18<00:00,  1.18it/s]\n"
          ]
        },
        {
          "name": "stdout",
          "output_type": "stream",
          "text": [
            "the loss of training results per epoch is 1.597248\n",
            "the accuracy of training results per epoch is 0.164534\n"
          ]
        },
        {
          "name": "stderr",
          "output_type": "stream",
          "text": [
            "test: 100%|██████████| 310/310 [04:00<00:00,  1.29it/s]\n",
            " 89%|████████▉ | 89/100 [23:32:19<2:50:25, 929.58s/it]"
          ]
        },
        {
          "name": "stdout",
          "output_type": "stream",
          "text": [
            "the loss of testing results per epoch is 1.591974\n",
            "the accuracy of testing results per epoch is 0.174536\n"
          ]
        },
        {
          "name": "stderr",
          "output_type": "stream",
          "text": [
            "train: 100%|██████████| 799/799 [11:11<00:00,  1.19it/s]\n"
          ]
        },
        {
          "name": "stdout",
          "output_type": "stream",
          "text": [
            "the loss of training results per epoch is 1.597248\n",
            "the accuracy of training results per epoch is 0.167547\n"
          ]
        },
        {
          "name": "stderr",
          "output_type": "stream",
          "text": [
            "test: 100%|██████████| 310/310 [04:01<00:00,  1.28it/s]\n",
            " 90%|█████████ | 90/100 [23:47:32<2:34:06, 924.61s/it]"
          ]
        },
        {
          "name": "stdout",
          "output_type": "stream",
          "text": [
            "the loss of testing results per epoch is 1.591974\n",
            "the accuracy of testing results per epoch is 0.174536\n"
          ]
        },
        {
          "name": "stderr",
          "output_type": "stream",
          "text": [
            "train: 100%|██████████| 799/799 [11:11<00:00,  1.19it/s]\n"
          ]
        },
        {
          "name": "stdout",
          "output_type": "stream",
          "text": [
            "the loss of training results per epoch is 1.597624\n",
            "the accuracy of training results per epoch is 0.166491\n"
          ]
        },
        {
          "name": "stderr",
          "output_type": "stream",
          "text": [
            "test: 100%|██████████| 310/310 [04:00<00:00,  1.29it/s]\n",
            " 91%|█████████ | 91/100 [24:02:43<2:18:05, 920.61s/it]"
          ]
        },
        {
          "name": "stdout",
          "output_type": "stream",
          "text": [
            "the loss of testing results per epoch is 1.591974\n",
            "the accuracy of testing results per epoch is 0.174536\n"
          ]
        },
        {
          "name": "stderr",
          "output_type": "stream",
          "text": [
            "train: 100%|██████████| 799/799 [11:12<00:00,  1.19it/s]\n"
          ]
        },
        {
          "name": "stdout",
          "output_type": "stream",
          "text": [
            "the loss of training results per epoch is 1.597293\n",
            "the accuracy of training results per epoch is 0.167860\n"
          ]
        },
        {
          "name": "stderr",
          "output_type": "stream",
          "text": [
            "test: 100%|██████████| 310/310 [03:59<00:00,  1.29it/s]\n",
            " 92%|█████████▏| 92/100 [24:17:56<2:02:24, 918.08s/it]"
          ]
        },
        {
          "name": "stdout",
          "output_type": "stream",
          "text": [
            "the loss of testing results per epoch is 1.591974\n",
            "the accuracy of testing results per epoch is 0.174536\n"
          ]
        },
        {
          "name": "stderr",
          "output_type": "stream",
          "text": [
            "train: 100%|██████████| 799/799 [11:11<00:00,  1.19it/s]\n"
          ]
        },
        {
          "name": "stdout",
          "output_type": "stream",
          "text": [
            "the loss of training results per epoch is 1.597428\n",
            "the accuracy of training results per epoch is 0.167117\n"
          ]
        },
        {
          "name": "stderr",
          "output_type": "stream",
          "text": [
            "test: 100%|██████████| 310/310 [04:00<00:00,  1.29it/s]\n",
            " 93%|█████████▎| 93/100 [24:33:07<1:46:53, 916.24s/it]"
          ]
        },
        {
          "name": "stdout",
          "output_type": "stream",
          "text": [
            "the loss of testing results per epoch is 1.591974\n",
            "the accuracy of testing results per epoch is 0.174536\n"
          ]
        },
        {
          "name": "stderr",
          "output_type": "stream",
          "text": [
            "train: 100%|██████████| 799/799 [11:12<00:00,  1.19it/s]\n"
          ]
        },
        {
          "name": "stdout",
          "output_type": "stream",
          "text": [
            "the loss of training results per epoch is 1.597476\n",
            "the accuracy of training results per epoch is 0.166530\n"
          ]
        },
        {
          "name": "stderr",
          "output_type": "stream",
          "text": [
            "test: 100%|██████████| 310/310 [04:25<00:00,  1.17it/s]\n",
            " 94%|█████████▍| 94/100 [24:48:45<1:32:15, 922.62s/it]"
          ]
        },
        {
          "name": "stdout",
          "output_type": "stream",
          "text": [
            "the loss of testing results per epoch is 1.591974\n",
            "the accuracy of testing results per epoch is 0.174536\n"
          ]
        },
        {
          "name": "stderr",
          "output_type": "stream",
          "text": [
            "train: 100%|██████████| 799/799 [11:13<00:00,  1.19it/s]\n"
          ]
        },
        {
          "name": "stdout",
          "output_type": "stream",
          "text": [
            "the loss of training results per epoch is 1.597517\n",
            "the accuracy of training results per epoch is 0.165042\n"
          ]
        },
        {
          "name": "stderr",
          "output_type": "stream",
          "text": [
            "test: 100%|██████████| 310/310 [04:00<00:00,  1.29it/s]\n",
            " 95%|█████████▌| 95/100 [25:03:59<1:16:39, 919.95s/it]"
          ]
        },
        {
          "name": "stdout",
          "output_type": "stream",
          "text": [
            "the loss of testing results per epoch is 1.591974\n",
            "the accuracy of testing results per epoch is 0.174536\n"
          ]
        },
        {
          "name": "stderr",
          "output_type": "stream",
          "text": [
            "train: 100%|██████████| 799/799 [11:11<00:00,  1.19it/s]\n"
          ]
        },
        {
          "name": "stdout",
          "output_type": "stream",
          "text": [
            "the loss of training results per epoch is 1.597565\n",
            "the accuracy of training results per epoch is 0.163125\n"
          ]
        },
        {
          "name": "stderr",
          "output_type": "stream",
          "text": [
            "test: 100%|██████████| 310/310 [04:00<00:00,  1.29it/s]\n",
            " 96%|█████████▌| 96/100 [25:19:10<1:01:09, 917.49s/it]"
          ]
        },
        {
          "name": "stdout",
          "output_type": "stream",
          "text": [
            "the loss of testing results per epoch is 1.591974\n",
            "the accuracy of testing results per epoch is 0.174536\n"
          ]
        },
        {
          "name": "stderr",
          "output_type": "stream",
          "text": [
            "train: 100%|██████████| 799/799 [11:11<00:00,  1.19it/s]\n"
          ]
        },
        {
          "name": "stdout",
          "output_type": "stream",
          "text": [
            "the loss of training results per epoch is 1.597546\n",
            "the accuracy of training results per epoch is 0.163399\n"
          ]
        },
        {
          "name": "stderr",
          "output_type": "stream",
          "text": [
            "test: 100%|██████████| 310/310 [04:00<00:00,  1.29it/s]\n",
            " 97%|█████████▋| 97/100 [25:34:23<45:47, 915.92s/it]  "
          ]
        },
        {
          "name": "stdout",
          "output_type": "stream",
          "text": [
            "the loss of testing results per epoch is 1.591974\n",
            "the accuracy of testing results per epoch is 0.174536\n"
          ]
        },
        {
          "name": "stderr",
          "output_type": "stream",
          "text": [
            "train: 100%|██████████| 799/799 [11:12<00:00,  1.19it/s]\n"
          ]
        },
        {
          "name": "stdout",
          "output_type": "stream",
          "text": [
            "the loss of training results per epoch is 1.597567\n",
            "the accuracy of training results per epoch is 0.164808\n"
          ]
        },
        {
          "name": "stderr",
          "output_type": "stream",
          "text": [
            "test: 100%|██████████| 310/310 [04:01<00:00,  1.28it/s]\n",
            " 98%|█████████▊| 98/100 [25:49:36<30:30, 915.24s/it]"
          ]
        },
        {
          "name": "stdout",
          "output_type": "stream",
          "text": [
            "the loss of testing results per epoch is 1.591974\n",
            "the accuracy of testing results per epoch is 0.174536\n"
          ]
        },
        {
          "name": "stderr",
          "output_type": "stream",
          "text": [
            "train: 100%|██████████| 799/799 [11:11<00:00,  1.19it/s]\n"
          ]
        },
        {
          "name": "stdout",
          "output_type": "stream",
          "text": [
            "the loss of training results per epoch is 1.597368\n",
            "the accuracy of training results per epoch is 0.166295\n"
          ]
        },
        {
          "name": "stderr",
          "output_type": "stream",
          "text": [
            "test: 100%|██████████| 310/310 [04:00<00:00,  1.29it/s]\n",
            " 99%|█████████▉| 99/100 [26:04:48<15:14, 914.08s/it]"
          ]
        },
        {
          "name": "stdout",
          "output_type": "stream",
          "text": [
            "the loss of testing results per epoch is 1.591974\n",
            "the accuracy of testing results per epoch is 0.174536\n"
          ]
        },
        {
          "name": "stderr",
          "output_type": "stream",
          "text": [
            "train: 100%|██████████| 799/799 [11:12<00:00,  1.19it/s]\n"
          ]
        },
        {
          "name": "stdout",
          "output_type": "stream",
          "text": [
            "the loss of training results per epoch is 1.597284\n",
            "the accuracy of training results per epoch is 0.165434\n"
          ]
        },
        {
          "name": "stderr",
          "output_type": "stream",
          "text": [
            "test: 100%|██████████| 310/310 [04:00<00:00,  1.29it/s]\n",
            "100%|██████████| 100/100 [26:20:00<00:00, 948.01s/it]"
          ]
        },
        {
          "name": "stdout",
          "output_type": "stream",
          "text": [
            "the loss of testing results per epoch is 1.591974\n",
            "the accuracy of testing results per epoch is 0.174536\n"
          ]
        },
        {
          "name": "stderr",
          "output_type": "stream",
          "text": [
            "\n"
          ]
        }
      ],
      "source": [
        "list_accuracy_per_epoch_train = []\n",
        "list_loss_per_epoch_train = []\n",
        "\n",
        "list_accuracy_per_epoch_test = []\n",
        "list_loss_per_epoch_test = []\n",
        "\n",
        "number_of_epochs = []\n",
        "\n",
        "\n",
        "\n",
        "for epoch in tqdm(range(num_epochs)):\n",
        "  number_of_epochs.append(epoch)\n",
        "  model.train()\n",
        "  train_loss, test_loss = 0, 0\n",
        "  train_corrects, test_corrects = 0, 0\n",
        "  for inputs, labels in tqdm(train_dataloader, desc = 'train'):\n",
        "    input, label = inputs.to(device), labels.to(device)\n",
        "    vision_transformer_output = model(input)\n",
        "    cost_function = loss_function(vision_transformer_output, label)\n",
        "\n",
        "    optimizer.zero_grad()\n",
        "\n",
        "    cost_function.backward()\n",
        "\n",
        "    optimizer.step()\n",
        "\n",
        "    with warmup_scheduler.dampening():\n",
        "      learning_rate_scheduler.step()\n",
        "\n",
        "    gradient_clipping = torch.nn.utils.clip_grad_norm(model.parameters(), 1)\n",
        "    \n",
        "    _, preds = torch.max(vision_transformer_output, 1)\n",
        "\n",
        "    train_loss = train_loss + cost_function.item()\n",
        "    train_corrects = train_corrects + torch.sum(preds == label)\n",
        "\n",
        "  accuracy_per_epoch_train = train_corrects / len(train_dataloader.dataset)\n",
        "  list_accuracy_per_epoch_train.append(accuracy_per_epoch_train)\n",
        "\n",
        "  loss_per_epoch_train = train_loss / len(train_dataloader)\n",
        "  list_loss_per_epoch_train.append(loss_per_epoch_train)\n",
        "\n",
        "  print(\"the loss of training results per epoch is {:4f}\".format(loss_per_epoch_train))\n",
        "  print(\"the accuracy of training results per epoch is {:4f}\".format(accuracy_per_epoch_train))\n",
        "\n",
        "  with torch.no_grad():\n",
        "    model.eval()\n",
        "    for inputs, labels in tqdm(test_dataloader, desc='test'):\n",
        "      test_input, test_label = inputs.to(device), labels.to(device)\n",
        "      vit_output = model(test_input)\n",
        "      output_loss = loss_function(vit_output, test_label)\n",
        "\n",
        "      _, test_preds = torch.max(vit_output, 1)\n",
        "\n",
        "      test_loss = test_loss + output_loss.item()\n",
        "      test_corrects = test_corrects + torch.sum(test_preds == test_label)\n",
        "    accuracy_per_epoch_test = test_corrects / len(test_dataloader.dataset)\n",
        "    loss_per_epoch_test = test_loss / len(test_dataloader)\n",
        "\n",
        "    list_accuracy_per_epoch_test.append(accuracy_per_epoch_test)\n",
        "    list_loss_per_epoch_test.append(loss_per_epoch_test)\n",
        "\n",
        "    print(\"the loss of testing results per epoch is {:4f}\".format(loss_per_epoch_test))\n",
        "    print(\"the accuracy of testing results per epoch is {:4f}\".format(accuracy_per_epoch_test))"
      ]
    },
    {
      "cell_type": "code",
      "execution_count": 11,
      "metadata": {},
      "outputs": [
        {
          "data": {
            "text/plain": [
              "<matplotlib.legend.Legend at 0x1a1a869c880>"
            ]
          },
          "execution_count": 11,
          "metadata": {},
          "output_type": "execute_result"
        },
        {
          "data": {
            "image/png": "[encoded data removed]",
            "text/plain": [
              "<Figure size 640x480 with 1 Axes>"
            ]
          },
          "metadata": {},
          "output_type": "display_data"
        }
      ],
      "source": [
        "# Graph of loss per epoch\n",
        "plt.plot(list_loss_per_epoch_train, label ='training loss')\n",
        "plt.plot(list_loss_per_epoch_test, label = 'test loss')\n",
        "plt.legend()"
      ]
    },
    {
      "cell_type": "code",
      "execution_count": 12,
      "metadata": {},
      "outputs": [
        {
          "ename": "TypeError",
          "evalue": "can't convert cuda:0 device type tensor to numpy. Use Tensor.cpu() to copy the tensor to host memory first.",
          "output_type": "error",
          "traceback": [
            "\u001b[1;31m---------------------------------------------------------------------------\u001b[0m",
            "\u001b[1;31mTypeError\u001b[0m                                 Traceback (most recent call last)",
            "Cell \u001b[1;32mIn[12], line 1\u001b[0m\n\u001b[1;32m----> 1\u001b[0m plt\u001b[39m.\u001b[39;49mplot(list_accuracy_per_epoch_train, label \u001b[39m=\u001b[39;49m \u001b[39m'\u001b[39;49m\u001b[39mtraining accuracy\u001b[39;49m\u001b[39m'\u001b[39;49m)\n\u001b[0;32m      2\u001b[0m plt\u001b[39m.\u001b[39mplot(list_accuracy_per_epoch_test, label \u001b[39m=\u001b[39m \u001b[39m'\u001b[39m\u001b[39mtest accuracy\u001b[39m\u001b[39m'\u001b[39m)\n\u001b[0;32m      3\u001b[0m plt\u001b[39m.\u001b[39mlegend()\n",
            "File \u001b[1;32mc:\\Users\\shpar\\AppData\\Local\\Programs\\Python\\Python39\\lib\\site-packages\\matplotlib\\pyplot.py:2748\u001b[0m, in \u001b[0;36mplot\u001b[1;34m(scalex, scaley, data, *args, **kwargs)\u001b[0m\n\u001b[0;32m   2746\u001b[0m \u001b[39m@_copy_docstring_and_deprecators\u001b[39m(Axes\u001b[39m.\u001b[39mplot)\n\u001b[0;32m   2747\u001b[0m \u001b[39mdef\u001b[39;00m \u001b[39mplot\u001b[39m(\u001b[39m*\u001b[39margs, scalex\u001b[39m=\u001b[39m\u001b[39mTrue\u001b[39;00m, scaley\u001b[39m=\u001b[39m\u001b[39mTrue\u001b[39;00m, data\u001b[39m=\u001b[39m\u001b[39mNone\u001b[39;00m, \u001b[39m*\u001b[39m\u001b[39m*\u001b[39mkwargs):\n\u001b[1;32m-> 2748\u001b[0m     \u001b[39mreturn\u001b[39;00m gca()\u001b[39m.\u001b[39mplot(\n\u001b[0;32m   2749\u001b[0m         \u001b[39m*\u001b[39margs, scalex\u001b[39m=\u001b[39mscalex, scaley\u001b[39m=\u001b[39mscaley,\n\u001b[0;32m   2750\u001b[0m         \u001b[39m*\u001b[39m\u001b[39m*\u001b[39m({\u001b[39m\"\u001b[39m\u001b[39mdata\u001b[39m\u001b[39m\"\u001b[39m: data} \u001b[39mif\u001b[39;00m data \u001b[39mis\u001b[39;00m \u001b[39mnot\u001b[39;00m \u001b[39mNone\u001b[39;00m \u001b[39melse\u001b[39;00m {}), \u001b[39m*\u001b[39m\u001b[39m*\u001b[39mkwargs)\n",
            "File \u001b[1;32mc:\\Users\\shpar\\AppData\\Local\\Programs\\Python\\Python39\\lib\\site-packages\\matplotlib\\axes\\_axes.py:1668\u001b[0m, in \u001b[0;36mAxes.plot\u001b[1;34m(self, scalex, scaley, data, *args, **kwargs)\u001b[0m\n\u001b[0;32m   1425\u001b[0m \u001b[39m\u001b[39m\u001b[39m\"\"\"\u001b[39;00m\n\u001b[0;32m   1426\u001b[0m \u001b[39mPlot y versus x as lines and/or markers.\u001b[39;00m\n\u001b[0;32m   1427\u001b[0m \n\u001b[1;32m   (...)\u001b[0m\n\u001b[0;32m   1665\u001b[0m \u001b[39m(``'green'``) or hex strings (``'#008000'``).\u001b[39;00m\n\u001b[0;32m   1666\u001b[0m \u001b[39m\"\"\"\u001b[39;00m\n\u001b[0;32m   1667\u001b[0m kwargs \u001b[39m=\u001b[39m cbook\u001b[39m.\u001b[39mnormalize_kwargs(kwargs, mlines\u001b[39m.\u001b[39mLine2D)\n\u001b[1;32m-> 1668\u001b[0m lines \u001b[39m=\u001b[39m [\u001b[39m*\u001b[39m\u001b[39mself\u001b[39m\u001b[39m.\u001b[39m_get_lines(\u001b[39m*\u001b[39margs, data\u001b[39m=\u001b[39mdata, \u001b[39m*\u001b[39m\u001b[39m*\u001b[39mkwargs)]\n\u001b[0;32m   1669\u001b[0m \u001b[39mfor\u001b[39;00m line \u001b[39min\u001b[39;00m lines:\n\u001b[0;32m   1670\u001b[0m     \u001b[39mself\u001b[39m\u001b[39m.\u001b[39madd_line(line)\n",
            "File \u001b[1;32mc:\\Users\\shpar\\AppData\\Local\\Programs\\Python\\Python39\\lib\\site-packages\\matplotlib\\axes\\_base.py:311\u001b[0m, in \u001b[0;36m_process_plot_var_args.__call__\u001b[1;34m(self, data, *args, **kwargs)\u001b[0m\n\u001b[0;32m    309\u001b[0m     this \u001b[39m+\u001b[39m\u001b[39m=\u001b[39m args[\u001b[39m0\u001b[39m],\n\u001b[0;32m    310\u001b[0m     args \u001b[39m=\u001b[39m args[\u001b[39m1\u001b[39m:]\n\u001b[1;32m--> 311\u001b[0m \u001b[39myield from\u001b[39;00m \u001b[39mself\u001b[39;49m\u001b[39m.\u001b[39;49m_plot_args(\n\u001b[0;32m    312\u001b[0m     this, kwargs, ambiguous_fmt_datakey\u001b[39m=\u001b[39;49mambiguous_fmt_datakey)\n",
            "File \u001b[1;32mc:\\Users\\shpar\\AppData\\Local\\Programs\\Python\\Python39\\lib\\site-packages\\matplotlib\\axes\\_base.py:496\u001b[0m, in \u001b[0;36m_process_plot_var_args._plot_args\u001b[1;34m(self, tup, kwargs, return_kwargs, ambiguous_fmt_datakey)\u001b[0m\n\u001b[0;32m    494\u001b[0m     y \u001b[39m=\u001b[39m _check_1d(xy[\u001b[39m1\u001b[39m])\n\u001b[0;32m    495\u001b[0m \u001b[39melse\u001b[39;00m:\n\u001b[1;32m--> 496\u001b[0m     x, y \u001b[39m=\u001b[39m index_of(xy[\u001b[39m-\u001b[39;49m\u001b[39m1\u001b[39;49m])\n\u001b[0;32m    498\u001b[0m \u001b[39mif\u001b[39;00m \u001b[39mself\u001b[39m\u001b[39m.\u001b[39maxes\u001b[39m.\u001b[39mxaxis \u001b[39mis\u001b[39;00m \u001b[39mnot\u001b[39;00m \u001b[39mNone\u001b[39;00m:\n\u001b[0;32m    499\u001b[0m     \u001b[39mself\u001b[39m\u001b[39m.\u001b[39maxes\u001b[39m.\u001b[39mxaxis\u001b[39m.\u001b[39mupdate_units(x)\n",
            "File \u001b[1;32mc:\\Users\\shpar\\AppData\\Local\\Programs\\Python\\Python39\\lib\\site-packages\\matplotlib\\cbook\\__init__.py:1690\u001b[0m, in \u001b[0;36mindex_of\u001b[1;34m(y)\u001b[0m\n\u001b[0;32m   1688\u001b[0m     \u001b[39mpass\u001b[39;00m\n\u001b[0;32m   1689\u001b[0m \u001b[39mtry\u001b[39;00m:\n\u001b[1;32m-> 1690\u001b[0m     y \u001b[39m=\u001b[39m _check_1d(y)\n\u001b[0;32m   1691\u001b[0m \u001b[39mexcept\u001b[39;00m (np\u001b[39m.\u001b[39mVisibleDeprecationWarning, \u001b[39mValueError\u001b[39;00m):\n\u001b[0;32m   1692\u001b[0m     \u001b[39m# NumPy 1.19 will warn on ragged input, and we can't actually use it.\u001b[39;00m\n\u001b[0;32m   1693\u001b[0m     \u001b[39mpass\u001b[39;00m\n",
            "File \u001b[1;32mc:\\Users\\shpar\\AppData\\Local\\Programs\\Python\\Python39\\lib\\site-packages\\matplotlib\\cbook\\__init__.py:1382\u001b[0m, in \u001b[0;36m_check_1d\u001b[1;34m(x)\u001b[0m\n\u001b[0;32m   1376\u001b[0m \u001b[39m# plot requires `shape` and `ndim`.  If passed an\u001b[39;00m\n\u001b[0;32m   1377\u001b[0m \u001b[39m# object that doesn't provide them, then force to numpy array.\u001b[39;00m\n\u001b[0;32m   1378\u001b[0m \u001b[39m# Note this will strip unit information.\u001b[39;00m\n\u001b[0;32m   1379\u001b[0m \u001b[39mif\u001b[39;00m (\u001b[39mnot\u001b[39;00m \u001b[39mhasattr\u001b[39m(x, \u001b[39m'\u001b[39m\u001b[39mshape\u001b[39m\u001b[39m'\u001b[39m) \u001b[39mor\u001b[39;00m\n\u001b[0;32m   1380\u001b[0m         \u001b[39mnot\u001b[39;00m \u001b[39mhasattr\u001b[39m(x, \u001b[39m'\u001b[39m\u001b[39mndim\u001b[39m\u001b[39m'\u001b[39m) \u001b[39mor\u001b[39;00m\n\u001b[0;32m   1381\u001b[0m         \u001b[39mlen\u001b[39m(x\u001b[39m.\u001b[39mshape) \u001b[39m<\u001b[39m \u001b[39m1\u001b[39m):\n\u001b[1;32m-> 1382\u001b[0m     \u001b[39mreturn\u001b[39;00m np\u001b[39m.\u001b[39;49matleast_1d(x)\n\u001b[0;32m   1383\u001b[0m \u001b[39melse\u001b[39;00m:\n\u001b[0;32m   1384\u001b[0m     \u001b[39mreturn\u001b[39;00m x\n",
            "File \u001b[1;32m<__array_function__ internals>:200\u001b[0m, in \u001b[0;36matleast_1d\u001b[1;34m(*args, **kwargs)\u001b[0m\n",
            "File \u001b[1;32mc:\\Users\\shpar\\AppData\\Local\\Programs\\Python\\Python39\\lib\\site-packages\\numpy\\core\\shape_base.py:65\u001b[0m, in \u001b[0;36matleast_1d\u001b[1;34m(*arys)\u001b[0m\n\u001b[0;32m     63\u001b[0m res \u001b[39m=\u001b[39m []\n\u001b[0;32m     64\u001b[0m \u001b[39mfor\u001b[39;00m ary \u001b[39min\u001b[39;00m arys:\n\u001b[1;32m---> 65\u001b[0m     ary \u001b[39m=\u001b[39m asanyarray(ary)\n\u001b[0;32m     66\u001b[0m     \u001b[39mif\u001b[39;00m ary\u001b[39m.\u001b[39mndim \u001b[39m==\u001b[39m \u001b[39m0\u001b[39m:\n\u001b[0;32m     67\u001b[0m         result \u001b[39m=\u001b[39m ary\u001b[39m.\u001b[39mreshape(\u001b[39m1\u001b[39m)\n",
            "File \u001b[1;32mc:\\Users\\shpar\\AppData\\Local\\Programs\\Python\\Python39\\lib\\site-packages\\torch\\_tensor.py:956\u001b[0m, in \u001b[0;36mTensor.__array__\u001b[1;34m(self, dtype)\u001b[0m\n\u001b[0;32m    954\u001b[0m     \u001b[39mreturn\u001b[39;00m handle_torch_function(Tensor\u001b[39m.\u001b[39m__array__, (\u001b[39mself\u001b[39m,), \u001b[39mself\u001b[39m, dtype\u001b[39m=\u001b[39mdtype)\n\u001b[0;32m    955\u001b[0m \u001b[39mif\u001b[39;00m dtype \u001b[39mis\u001b[39;00m \u001b[39mNone\u001b[39;00m:\n\u001b[1;32m--> 956\u001b[0m     \u001b[39mreturn\u001b[39;00m \u001b[39mself\u001b[39;49m\u001b[39m.\u001b[39;49mnumpy()\n\u001b[0;32m    957\u001b[0m \u001b[39melse\u001b[39;00m:\n\u001b[0;32m    958\u001b[0m     \u001b[39mreturn\u001b[39;00m \u001b[39mself\u001b[39m\u001b[39m.\u001b[39mnumpy()\u001b[39m.\u001b[39mastype(dtype, copy\u001b[39m=\u001b[39m\u001b[39mFalse\u001b[39;00m)\n",
            "\u001b[1;31mTypeError\u001b[0m: can't convert cuda:0 device type tensor to numpy. Use Tensor.cpu() to copy the tensor to host memory first."
          ]
        },
        {
          "data": {
            "image/png": "[encoded data removed]",
            "text/plain": [
              "<Figure size 640x480 with 1 Axes>"
            ]
          },
          "metadata": {},
          "output_type": "display_data"
        }
      ],
      "source": [
        "plt.plot(list_accuracy_per_epoch_train, label = 'training accuracy')\n",
        "plt.plot(list_accuracy_per_epoch_test, label = 'test accuracy')\n",
        "plt.legend()"
      ]
    },
    {
      "cell_type": "markdown",
      "metadata": {
        "id": "ebb1U3Cmbvrh"
      },
      "source": []
    }
  ],
  "metadata": {
    "accelerator": "GPU",
    "colab": {
      "machine_shape": "hm",
      "provenance": []
    },
    "gpuClass": "premium",
    "kernelspec": {
      "display_name": "Python 3",
      "language": "python",
      "name": "python3"
    },
    "language_info": {
      "codemirror_mode": {
        "name": "ipython",
        "version": 3
      },
      "file_extension": ".py",
      "mimetype": "text/x-python",
      "name": "python",
      "nbconvert_exporter": "python",
      "pygments_lexer": "ipython3",
      "version": "3.9.10"
    },
    "vscode": {
      "interpreter": {
        "hash": "86a37af0dc32b877fb6e32519bce10809ab67891d0cdb112dd7097203ad19919"
      }
    },
    "widgets": {
      "application/vnd.jupyter.widget-state+json": {
        "01266ce059f544389ac82d55154a6b2a": {
          "model_module": "@jupyter-widgets/controls",
          "model_module_version": "1.5.0",
          "model_name": "DescriptionStyleModel",
          "state": {
            "_model_module": "@jupyter-widgets/controls",
            "_model_module_version": "1.5.0",
            "_model_name": "DescriptionStyleModel",
            "_view_count": null,
            "_view_module": "@jupyter-widgets/base",
            "_view_module_version": "1.2.0",
            "_view_name": "StyleView",
            "description_width": ""
          }
        },
        "03e7d8c1bb7442e0affd42d4f998c1f1": {
          "model_module": "@jupyter-widgets/base",
          "model_module_version": "1.2.0",
          "model_name": "LayoutModel",
          "state": {
            "_model_module": "@jupyter-widgets/base",
            "_model_module_version": "1.2.0",
            "_model_name": "LayoutModel",
            "_view_count": null,
            "_view_module": "@jupyter-widgets/base",
            "_view_module_version": "1.2.0",
            "_view_name": "LayoutView",
            "align_content": null,
            "align_items": null,
            "align_self": null,
            "border": null,
            "bottom": null,
            "display": null,
            "flex": null,
            "flex_flow": null,
            "grid_area": null,
            "grid_auto_columns": null,
            "grid_auto_flow": null,
            "grid_auto_rows": null,
            "grid_column": null,
            "grid_gap": null,
            "grid_row": null,
            "grid_template_areas": null,
            "grid_template_columns": null,
            "grid_template_rows": null,
            "height": null,
            "justify_content": null,
            "justify_items": null,
            "left": null,
            "margin": null,
            "max_height": null,
            "max_width": null,
            "min_height": null,
            "min_width": null,
            "object_fit": null,
            "object_position": null,
            "order": null,
            "overflow": null,
            "overflow_x": null,
            "overflow_y": null,
            "padding": null,
            "right": null,
            "top": null,
            "visibility": null,
            "width": null
          }
        },
        "076bc13ad2e0408c81904bd005d22cf0": {
          "model_module": "@jupyter-widgets/controls",
          "model_module_version": "1.5.0",
          "model_name": "DescriptionStyleModel",
          "state": {
            "_model_module": "@jupyter-widgets/controls",
            "_model_module_version": "1.5.0",
            "_model_name": "DescriptionStyleModel",
            "_view_count": null,
            "_view_module": "@jupyter-widgets/base",
            "_view_module_version": "1.2.0",
            "_view_name": "StyleView",
            "description_width": ""
          }
        },
        "21c60402a52c408cbc6bacc8d374d425": {
          "model_module": "@jupyter-widgets/controls",
          "model_module_version": "1.5.0",
          "model_name": "HBoxModel",
          "state": {
            "_dom_classes": [],
            "_model_module": "@jupyter-widgets/controls",
            "_model_module_version": "1.5.0",
            "_model_name": "HBoxModel",
            "_view_count": null,
            "_view_module": "@jupyter-widgets/controls",
            "_view_module_version": "1.5.0",
            "_view_name": "HBoxView",
            "box_style": "",
            "children": [
              "IPY_MODEL_c7dc6cddc7ab4014bcdde638717a1c51",
              "IPY_MODEL_a79f4174d04642379cb7303ca1150d57",
              "IPY_MODEL_c912f377f2d24e11acf8e53a7f798e5a"
            ],
            "layout": "IPY_MODEL_03e7d8c1bb7442e0affd42d4f998c1f1"
          }
        },
        "22bd520a43aa4208b5656b0125798306": {
          "model_module": "@jupyter-widgets/controls",
          "model_module_version": "1.5.0",
          "model_name": "ProgressStyleModel",
          "state": {
            "_model_module": "@jupyter-widgets/controls",
            "_model_module_version": "1.5.0",
            "_model_name": "ProgressStyleModel",
            "_view_count": null,
            "_view_module": "@jupyter-widgets/base",
            "_view_module_version": "1.2.0",
            "_view_name": "StyleView",
            "bar_color": null,
            "description_width": ""
          }
        },
        "23e466d2d4a04fdc9ec8a40de588ce34": {
          "model_module": "@jupyter-widgets/base",
          "model_module_version": "1.2.0",
          "model_name": "LayoutModel",
          "state": {
            "_model_module": "@jupyter-widgets/base",
            "_model_module_version": "1.2.0",
            "_model_name": "LayoutModel",
            "_view_count": null,
            "_view_module": "@jupyter-widgets/base",
            "_view_module_version": "1.2.0",
            "_view_name": "LayoutView",
            "align_content": null,
            "align_items": null,
            "align_self": null,
            "border": null,
            "bottom": null,
            "display": null,
            "flex": null,
            "flex_flow": null,
            "grid_area": null,
            "grid_auto_columns": null,
            "grid_auto_flow": null,
            "grid_auto_rows": null,
            "grid_column": null,
            "grid_gap": null,
            "grid_row": null,
            "grid_template_areas": null,
            "grid_template_columns": null,
            "grid_template_rows": null,
            "height": null,
            "justify_content": null,
            "justify_items": null,
            "left": null,
            "margin": null,
            "max_height": null,
            "max_width": null,
            "min_height": null,
            "min_width": null,
            "object_fit": null,
            "object_position": null,
            "order": null,
            "overflow": null,
            "overflow_x": null,
            "overflow_y": null,
            "padding": null,
            "right": null,
            "top": null,
            "visibility": null,
            "width": null
          }
        },
        "a79f4174d04642379cb7303ca1150d57": {
          "model_module": "@jupyter-widgets/controls",
          "model_module_version": "1.5.0",
          "model_name": "FloatProgressModel",
          "state": {
            "_dom_classes": [],
            "_model_module": "@jupyter-widgets/controls",
            "_model_module_version": "1.5.0",
            "_model_name": "FloatProgressModel",
            "_view_count": null,
            "_view_module": "@jupyter-widgets/controls",
            "_view_module_version": "1.5.0",
            "_view_name": "ProgressView",
            "bar_style": "success",
            "description": "",
            "description_tooltip": null,
            "layout": "IPY_MODEL_f39b3c146bdd490fb3b79860d06c98da",
            "max": 347469964,
            "min": 0,
            "orientation": "horizontal",
            "style": "IPY_MODEL_22bd520a43aa4208b5656b0125798306",
            "value": 347469964
          }
        },
        "c7dc6cddc7ab4014bcdde638717a1c51": {
          "model_module": "@jupyter-widgets/controls",
          "model_module_version": "1.5.0",
          "model_name": "HTMLModel",
          "state": {
            "_dom_classes": [],
            "_model_module": "@jupyter-widgets/controls",
            "_model_module_version": "1.5.0",
            "_model_name": "HTMLModel",
            "_view_count": null,
            "_view_module": "@jupyter-widgets/controls",
            "_view_module_version": "1.5.0",
            "_view_name": "HTMLView",
            "description": "",
            "description_tooltip": null,
            "layout": "IPY_MODEL_23e466d2d4a04fdc9ec8a40de588ce34",
            "placeholder": "​",
            "style": "IPY_MODEL_076bc13ad2e0408c81904bd005d22cf0",
            "value": "100%"
          }
        },
        "c912f377f2d24e11acf8e53a7f798e5a": {
          "model_module": "@jupyter-widgets/controls",
          "model_module_version": "1.5.0",
          "model_name": "HTMLModel",
          "state": {
            "_dom_classes": [],
            "_model_module": "@jupyter-widgets/controls",
            "_model_module_version": "1.5.0",
            "_model_name": "HTMLModel",
            "_view_count": null,
            "_view_module": "@jupyter-widgets/controls",
            "_view_module_version": "1.5.0",
            "_view_name": "HTMLView",
            "description": "",
            "description_tooltip": null,
            "layout": "IPY_MODEL_d22d837de98a4fbb832c35ea24889f06",
            "placeholder": "​",
            "style": "IPY_MODEL_01266ce059f544389ac82d55154a6b2a",
            "value": " 331M/331M [00:06&lt;00:00, 34.3MB/s]"
          }
        },
        "d22d837de98a4fbb832c35ea24889f06": {
          "model_module": "@jupyter-widgets/base",
          "model_module_version": "1.2.0",
          "model_name": "LayoutModel",
          "state": {
            "_model_module": "@jupyter-widgets/base",
            "_model_module_version": "1.2.0",
            "_model_name": "LayoutModel",
            "_view_count": null,
            "_view_module": "@jupyter-widgets/base",
            "_view_module_version": "1.2.0",
            "_view_name": "LayoutView",
            "align_content": null,
            "align_items": null,
            "align_self": null,
            "border": null,
            "bottom": null,
            "display": null,
            "flex": null,
            "flex_flow": null,
            "grid_area": null,
            "grid_auto_columns": null,
            "grid_auto_flow": null,
            "grid_auto_rows": null,
            "grid_column": null,
            "grid_gap": null,
            "grid_row": null,
            "grid_template_areas": null,
            "grid_template_columns": null,
            "grid_template_rows": null,
            "height": null,
            "justify_content": null,
            "justify_items": null,
            "left": null,
            "margin": null,
            "max_height": null,
            "max_width": null,
            "min_height": null,
            "min_width": null,
            "object_fit": null,
            "object_position": null,
            "order": null,
            "overflow": null,
            "overflow_x": null,
            "overflow_y": null,
            "padding": null,
            "right": null,
            "top": null,
            "visibility": null,
            "width": null
          }
        },
        "f39b3c146bdd490fb3b79860d06c98da": {
          "model_module": "@jupyter-widgets/base",
          "model_module_version": "1.2.0",
          "model_name": "LayoutModel",
          "state": {
            "_model_module": "@jupyter-widgets/base",
            "_model_module_version": "1.2.0",
            "_model_name": "LayoutModel",
            "_view_count": null,
            "_view_module": "@jupyter-widgets/base",
            "_view_module_version": "1.2.0",
            "_view_name": "LayoutView",
            "align_content": null,
            "align_items": null,
            "align_self": null,
            "border": null,
            "bottom": null,
            "display": null,
            "flex": null,
            "flex_flow": null,
            "grid_area": null,
            "grid_auto_columns": null,
            "grid_auto_flow": null,
            "grid_auto_rows": null,
            "grid_column": null,
            "grid_gap": null,
            "grid_row": null,
            "grid_template_areas": null,
            "grid_template_columns": null,
            "grid_template_rows": null,
            "height": null,
            "justify_content": null,
            "justify_items": null,
            "left": null,
            "margin": null,
            "max_height": null,
            "max_width": null,
            "min_height": null,
            "min_width": null,
            "object_fit": null,
            "object_position": null,
            "order": null,
            "overflow": null,
            "overflow_x": null,
            "overflow_y": null,
            "padding": null,
            "right": null,
            "top": null,
            "visibility": null,
            "width": null
          }
        }
      }
    }
  },
  "nbformat": 4,
  "nbformat_minor": 0
}
